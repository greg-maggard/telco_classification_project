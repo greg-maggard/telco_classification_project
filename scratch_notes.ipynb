{
 "cells": [
  {
   "cell_type": "markdown",
   "id": "1883722f",
   "metadata": {},
   "source": [
    "[Practice Project for Reference](https://github.com/faithkane3/example_classification_project)"
   ]
  },
  {
   "cell_type": "code",
   "execution_count": 1,
   "id": "9e74568d",
   "metadata": {},
   "outputs": [],
   "source": [
    "import warnings\n",
    "warnings.filterwarnings(\"ignore\")\n",
    "\n",
    "import pandas as pd\n",
    "import numpy as np\n",
    "import matplotlib.pyplot as plt\n",
    "import seaborn as sns\n",
    "sns.set_palette('Set1')\n",
    "from scipy import stats\n",
    "from sklearn.model_selection import train_test_split\n",
    "from sklearn.tree import DecisionTreeClassifier, plot_tree\n",
    "from sklearn.metrics import classification_report\n",
    "from sklearn.metrics import confusion_matrix\n",
    "from sklearn.metrics import precision_recall_fscore_support\n",
    "from sklearn.metrics import accuracy_score\n",
    "from sklearn.ensemble import RandomForestClassifier\n",
    "from sklearn.neighbors import KNeighborsClassifier\n",
    "from sklearn.linear_model import LogisticRegression\n",
    "import pydataset as data\n",
    "\n",
    "from acquire import get_telco_data\n",
    "from prepare import clean_telco_data, prep_telco_data\n",
    "\n",
    "from env import get_db_url\n",
    "\n",
    "α = .05"
   ]
  },
  {
   "cell_type": "code",
   "execution_count": 2,
   "id": "0536679c",
   "metadata": {},
   "outputs": [],
   "source": [
    "telco_df = get_telco_data()"
   ]
  },
  {
   "cell_type": "code",
   "execution_count": 3,
   "id": "2d0dfc15",
   "metadata": {},
   "outputs": [
    {
     "data": {
      "text/plain": [
       "['customer_id',\n",
       " 'gender',\n",
       " 'senior_citizen',\n",
       " 'partner',\n",
       " 'dependents',\n",
       " 'tenure',\n",
       " 'phone_service',\n",
       " 'multiple_lines',\n",
       " 'internet_service_type_id',\n",
       " 'online_security',\n",
       " 'online_backup',\n",
       " 'device_protection',\n",
       " 'tech_support',\n",
       " 'streaming_tv',\n",
       " 'streaming_movies',\n",
       " 'contract_type_id',\n",
       " 'paperless_billing',\n",
       " 'payment_type_id',\n",
       " 'monthly_charges',\n",
       " 'total_charges',\n",
       " 'churn',\n",
       " 'contract_type_id.1',\n",
       " 'contract_type',\n",
       " 'payment_type_id.1',\n",
       " 'payment_type',\n",
       " 'internet_service_type_id.1',\n",
       " 'internet_service_type']"
      ]
     },
     "execution_count": 3,
     "metadata": {},
     "output_type": "execute_result"
    }
   ],
   "source": [
    "telco_df.columns.tolist()"
   ]
  },
  {
   "cell_type": "code",
   "execution_count": 4,
   "id": "a2031c15",
   "metadata": {},
   "outputs": [],
   "source": [
    "#train.total_charges = train.total_charges.astype('float')\n",
    "#train.dtypes"
   ]
  },
  {
   "cell_type": "code",
   "execution_count": 5,
   "id": "69277f76",
   "metadata": {},
   "outputs": [
    {
     "data": {
      "text/html": [
       "<div>\n",
       "<style scoped>\n",
       "    .dataframe tbody tr th:only-of-type {\n",
       "        vertical-align: middle;\n",
       "    }\n",
       "\n",
       "    .dataframe tbody tr th {\n",
       "        vertical-align: top;\n",
       "    }\n",
       "\n",
       "    .dataframe thead th {\n",
       "        text-align: right;\n",
       "    }\n",
       "</style>\n",
       "<table border=\"1\" class=\"dataframe\">\n",
       "  <thead>\n",
       "    <tr style=\"text-align: right;\">\n",
       "      <th></th>\n",
       "      <th>customer_id</th>\n",
       "      <th>gender</th>\n",
       "      <th>senior_citizen</th>\n",
       "      <th>partner</th>\n",
       "      <th>dependents</th>\n",
       "      <th>tenure</th>\n",
       "      <th>phone_service</th>\n",
       "      <th>multiple_lines</th>\n",
       "      <th>internet_service_type_id</th>\n",
       "      <th>online_security</th>\n",
       "      <th>...</th>\n",
       "      <th>payment_type_id</th>\n",
       "      <th>monthly_charges</th>\n",
       "      <th>total_charges</th>\n",
       "      <th>churn</th>\n",
       "      <th>contract_type_id.1</th>\n",
       "      <th>contract_type</th>\n",
       "      <th>payment_type_id.1</th>\n",
       "      <th>payment_type</th>\n",
       "      <th>internet_service_type_id.1</th>\n",
       "      <th>internet_service_type</th>\n",
       "    </tr>\n",
       "  </thead>\n",
       "  <tbody>\n",
       "    <tr>\n",
       "      <th>0</th>\n",
       "      <td>0002-ORFBO</td>\n",
       "      <td>Female</td>\n",
       "      <td>0</td>\n",
       "      <td>Yes</td>\n",
       "      <td>Yes</td>\n",
       "      <td>9</td>\n",
       "      <td>Yes</td>\n",
       "      <td>No</td>\n",
       "      <td>1</td>\n",
       "      <td>No</td>\n",
       "      <td>...</td>\n",
       "      <td>2</td>\n",
       "      <td>65.60</td>\n",
       "      <td>593.3</td>\n",
       "      <td>No</td>\n",
       "      <td>2</td>\n",
       "      <td>One year</td>\n",
       "      <td>2</td>\n",
       "      <td>Mailed check</td>\n",
       "      <td>1</td>\n",
       "      <td>DSL</td>\n",
       "    </tr>\n",
       "    <tr>\n",
       "      <th>1</th>\n",
       "      <td>0003-MKNFE</td>\n",
       "      <td>Male</td>\n",
       "      <td>0</td>\n",
       "      <td>No</td>\n",
       "      <td>No</td>\n",
       "      <td>9</td>\n",
       "      <td>Yes</td>\n",
       "      <td>Yes</td>\n",
       "      <td>1</td>\n",
       "      <td>No</td>\n",
       "      <td>...</td>\n",
       "      <td>2</td>\n",
       "      <td>59.90</td>\n",
       "      <td>542.4</td>\n",
       "      <td>No</td>\n",
       "      <td>1</td>\n",
       "      <td>Month-to-month</td>\n",
       "      <td>2</td>\n",
       "      <td>Mailed check</td>\n",
       "      <td>1</td>\n",
       "      <td>DSL</td>\n",
       "    </tr>\n",
       "    <tr>\n",
       "      <th>2</th>\n",
       "      <td>0004-TLHLJ</td>\n",
       "      <td>Male</td>\n",
       "      <td>0</td>\n",
       "      <td>No</td>\n",
       "      <td>No</td>\n",
       "      <td>4</td>\n",
       "      <td>Yes</td>\n",
       "      <td>No</td>\n",
       "      <td>2</td>\n",
       "      <td>No</td>\n",
       "      <td>...</td>\n",
       "      <td>1</td>\n",
       "      <td>73.90</td>\n",
       "      <td>280.85</td>\n",
       "      <td>Yes</td>\n",
       "      <td>1</td>\n",
       "      <td>Month-to-month</td>\n",
       "      <td>1</td>\n",
       "      <td>Electronic check</td>\n",
       "      <td>2</td>\n",
       "      <td>Fiber optic</td>\n",
       "    </tr>\n",
       "    <tr>\n",
       "      <th>3</th>\n",
       "      <td>0011-IGKFF</td>\n",
       "      <td>Male</td>\n",
       "      <td>1</td>\n",
       "      <td>Yes</td>\n",
       "      <td>No</td>\n",
       "      <td>13</td>\n",
       "      <td>Yes</td>\n",
       "      <td>No</td>\n",
       "      <td>2</td>\n",
       "      <td>No</td>\n",
       "      <td>...</td>\n",
       "      <td>1</td>\n",
       "      <td>98.00</td>\n",
       "      <td>1237.85</td>\n",
       "      <td>Yes</td>\n",
       "      <td>1</td>\n",
       "      <td>Month-to-month</td>\n",
       "      <td>1</td>\n",
       "      <td>Electronic check</td>\n",
       "      <td>2</td>\n",
       "      <td>Fiber optic</td>\n",
       "    </tr>\n",
       "    <tr>\n",
       "      <th>4</th>\n",
       "      <td>0013-EXCHZ</td>\n",
       "      <td>Female</td>\n",
       "      <td>1</td>\n",
       "      <td>Yes</td>\n",
       "      <td>No</td>\n",
       "      <td>3</td>\n",
       "      <td>Yes</td>\n",
       "      <td>No</td>\n",
       "      <td>2</td>\n",
       "      <td>No</td>\n",
       "      <td>...</td>\n",
       "      <td>2</td>\n",
       "      <td>83.90</td>\n",
       "      <td>267.4</td>\n",
       "      <td>Yes</td>\n",
       "      <td>1</td>\n",
       "      <td>Month-to-month</td>\n",
       "      <td>2</td>\n",
       "      <td>Mailed check</td>\n",
       "      <td>2</td>\n",
       "      <td>Fiber optic</td>\n",
       "    </tr>\n",
       "    <tr>\n",
       "      <th>...</th>\n",
       "      <td>...</td>\n",
       "      <td>...</td>\n",
       "      <td>...</td>\n",
       "      <td>...</td>\n",
       "      <td>...</td>\n",
       "      <td>...</td>\n",
       "      <td>...</td>\n",
       "      <td>...</td>\n",
       "      <td>...</td>\n",
       "      <td>...</td>\n",
       "      <td>...</td>\n",
       "      <td>...</td>\n",
       "      <td>...</td>\n",
       "      <td>...</td>\n",
       "      <td>...</td>\n",
       "      <td>...</td>\n",
       "      <td>...</td>\n",
       "      <td>...</td>\n",
       "      <td>...</td>\n",
       "      <td>...</td>\n",
       "      <td>...</td>\n",
       "    </tr>\n",
       "    <tr>\n",
       "      <th>7038</th>\n",
       "      <td>9987-LUTYD</td>\n",
       "      <td>Female</td>\n",
       "      <td>0</td>\n",
       "      <td>No</td>\n",
       "      <td>No</td>\n",
       "      <td>13</td>\n",
       "      <td>Yes</td>\n",
       "      <td>No</td>\n",
       "      <td>1</td>\n",
       "      <td>Yes</td>\n",
       "      <td>...</td>\n",
       "      <td>2</td>\n",
       "      <td>55.15</td>\n",
       "      <td>742.9</td>\n",
       "      <td>No</td>\n",
       "      <td>2</td>\n",
       "      <td>One year</td>\n",
       "      <td>2</td>\n",
       "      <td>Mailed check</td>\n",
       "      <td>1</td>\n",
       "      <td>DSL</td>\n",
       "    </tr>\n",
       "    <tr>\n",
       "      <th>7039</th>\n",
       "      <td>9992-RRAMN</td>\n",
       "      <td>Male</td>\n",
       "      <td>0</td>\n",
       "      <td>Yes</td>\n",
       "      <td>No</td>\n",
       "      <td>22</td>\n",
       "      <td>Yes</td>\n",
       "      <td>Yes</td>\n",
       "      <td>2</td>\n",
       "      <td>No</td>\n",
       "      <td>...</td>\n",
       "      <td>1</td>\n",
       "      <td>85.10</td>\n",
       "      <td>1873.7</td>\n",
       "      <td>Yes</td>\n",
       "      <td>1</td>\n",
       "      <td>Month-to-month</td>\n",
       "      <td>1</td>\n",
       "      <td>Electronic check</td>\n",
       "      <td>2</td>\n",
       "      <td>Fiber optic</td>\n",
       "    </tr>\n",
       "    <tr>\n",
       "      <th>7040</th>\n",
       "      <td>9992-UJOEL</td>\n",
       "      <td>Male</td>\n",
       "      <td>0</td>\n",
       "      <td>No</td>\n",
       "      <td>No</td>\n",
       "      <td>2</td>\n",
       "      <td>Yes</td>\n",
       "      <td>No</td>\n",
       "      <td>1</td>\n",
       "      <td>No</td>\n",
       "      <td>...</td>\n",
       "      <td>2</td>\n",
       "      <td>50.30</td>\n",
       "      <td>92.75</td>\n",
       "      <td>No</td>\n",
       "      <td>1</td>\n",
       "      <td>Month-to-month</td>\n",
       "      <td>2</td>\n",
       "      <td>Mailed check</td>\n",
       "      <td>1</td>\n",
       "      <td>DSL</td>\n",
       "    </tr>\n",
       "    <tr>\n",
       "      <th>7041</th>\n",
       "      <td>9993-LHIEB</td>\n",
       "      <td>Male</td>\n",
       "      <td>0</td>\n",
       "      <td>Yes</td>\n",
       "      <td>Yes</td>\n",
       "      <td>67</td>\n",
       "      <td>Yes</td>\n",
       "      <td>No</td>\n",
       "      <td>1</td>\n",
       "      <td>Yes</td>\n",
       "      <td>...</td>\n",
       "      <td>2</td>\n",
       "      <td>67.85</td>\n",
       "      <td>4627.65</td>\n",
       "      <td>No</td>\n",
       "      <td>3</td>\n",
       "      <td>Two year</td>\n",
       "      <td>2</td>\n",
       "      <td>Mailed check</td>\n",
       "      <td>1</td>\n",
       "      <td>DSL</td>\n",
       "    </tr>\n",
       "    <tr>\n",
       "      <th>7042</th>\n",
       "      <td>9995-HOTOH</td>\n",
       "      <td>Male</td>\n",
       "      <td>0</td>\n",
       "      <td>Yes</td>\n",
       "      <td>Yes</td>\n",
       "      <td>63</td>\n",
       "      <td>No</td>\n",
       "      <td>No phone service</td>\n",
       "      <td>1</td>\n",
       "      <td>Yes</td>\n",
       "      <td>...</td>\n",
       "      <td>1</td>\n",
       "      <td>59.00</td>\n",
       "      <td>3707.6</td>\n",
       "      <td>No</td>\n",
       "      <td>3</td>\n",
       "      <td>Two year</td>\n",
       "      <td>1</td>\n",
       "      <td>Electronic check</td>\n",
       "      <td>1</td>\n",
       "      <td>DSL</td>\n",
       "    </tr>\n",
       "  </tbody>\n",
       "</table>\n",
       "<p>7043 rows × 27 columns</p>\n",
       "</div>"
      ],
      "text/plain": [
       "     customer_id  gender  senior_citizen partner dependents  tenure  \\\n",
       "0     0002-ORFBO  Female               0     Yes        Yes       9   \n",
       "1     0003-MKNFE    Male               0      No         No       9   \n",
       "2     0004-TLHLJ    Male               0      No         No       4   \n",
       "3     0011-IGKFF    Male               1     Yes         No      13   \n",
       "4     0013-EXCHZ  Female               1     Yes         No       3   \n",
       "...          ...     ...             ...     ...        ...     ...   \n",
       "7038  9987-LUTYD  Female               0      No         No      13   \n",
       "7039  9992-RRAMN    Male               0     Yes         No      22   \n",
       "7040  9992-UJOEL    Male               0      No         No       2   \n",
       "7041  9993-LHIEB    Male               0     Yes        Yes      67   \n",
       "7042  9995-HOTOH    Male               0     Yes        Yes      63   \n",
       "\n",
       "     phone_service    multiple_lines  internet_service_type_id  \\\n",
       "0              Yes                No                         1   \n",
       "1              Yes               Yes                         1   \n",
       "2              Yes                No                         2   \n",
       "3              Yes                No                         2   \n",
       "4              Yes                No                         2   \n",
       "...            ...               ...                       ...   \n",
       "7038           Yes                No                         1   \n",
       "7039           Yes               Yes                         2   \n",
       "7040           Yes                No                         1   \n",
       "7041           Yes                No                         1   \n",
       "7042            No  No phone service                         1   \n",
       "\n",
       "     online_security  ... payment_type_id monthly_charges total_charges churn  \\\n",
       "0                 No  ...               2           65.60         593.3    No   \n",
       "1                 No  ...               2           59.90         542.4    No   \n",
       "2                 No  ...               1           73.90        280.85   Yes   \n",
       "3                 No  ...               1           98.00       1237.85   Yes   \n",
       "4                 No  ...               2           83.90         267.4   Yes   \n",
       "...              ...  ...             ...             ...           ...   ...   \n",
       "7038             Yes  ...               2           55.15         742.9    No   \n",
       "7039              No  ...               1           85.10        1873.7   Yes   \n",
       "7040              No  ...               2           50.30         92.75    No   \n",
       "7041             Yes  ...               2           67.85       4627.65    No   \n",
       "7042             Yes  ...               1           59.00        3707.6    No   \n",
       "\n",
       "     contract_type_id.1   contract_type payment_type_id.1      payment_type  \\\n",
       "0                     2        One year                 2      Mailed check   \n",
       "1                     1  Month-to-month                 2      Mailed check   \n",
       "2                     1  Month-to-month                 1  Electronic check   \n",
       "3                     1  Month-to-month                 1  Electronic check   \n",
       "4                     1  Month-to-month                 2      Mailed check   \n",
       "...                 ...             ...               ...               ...   \n",
       "7038                  2        One year                 2      Mailed check   \n",
       "7039                  1  Month-to-month                 1  Electronic check   \n",
       "7040                  1  Month-to-month                 2      Mailed check   \n",
       "7041                  3        Two year                 2      Mailed check   \n",
       "7042                  3        Two year                 1  Electronic check   \n",
       "\n",
       "      internet_service_type_id.1 internet_service_type  \n",
       "0                              1                   DSL  \n",
       "1                              1                   DSL  \n",
       "2                              2           Fiber optic  \n",
       "3                              2           Fiber optic  \n",
       "4                              2           Fiber optic  \n",
       "...                          ...                   ...  \n",
       "7038                           1                   DSL  \n",
       "7039                           2           Fiber optic  \n",
       "7040                           1                   DSL  \n",
       "7041                           1                   DSL  \n",
       "7042                           1                   DSL  \n",
       "\n",
       "[7043 rows x 27 columns]"
      ]
     },
     "execution_count": 5,
     "metadata": {},
     "output_type": "execute_result"
    }
   ],
   "source": [
    "telco_df"
   ]
  },
  {
   "cell_type": "code",
   "execution_count": 6,
   "id": "80e1bb8d",
   "metadata": {},
   "outputs": [
    {
     "data": {
      "text/html": [
       "<div>\n",
       "<style scoped>\n",
       "    .dataframe tbody tr th:only-of-type {\n",
       "        vertical-align: middle;\n",
       "    }\n",
       "\n",
       "    .dataframe tbody tr th {\n",
       "        vertical-align: top;\n",
       "    }\n",
       "\n",
       "    .dataframe thead th {\n",
       "        text-align: right;\n",
       "    }\n",
       "</style>\n",
       "<table border=\"1\" class=\"dataframe\">\n",
       "  <thead>\n",
       "    <tr style=\"text-align: right;\">\n",
       "      <th></th>\n",
       "      <th>customer_id</th>\n",
       "      <th>gender</th>\n",
       "      <th>senior_citizen</th>\n",
       "      <th>partner</th>\n",
       "      <th>dependents</th>\n",
       "      <th>tenure</th>\n",
       "      <th>phone_service</th>\n",
       "      <th>multiple_lines</th>\n",
       "      <th>online_security</th>\n",
       "      <th>online_backup</th>\n",
       "      <th>...</th>\n",
       "      <th>streaming_movies_No internet service</th>\n",
       "      <th>streaming_movies_Yes</th>\n",
       "      <th>paperless_billing_Yes</th>\n",
       "      <th>contract_type_One year</th>\n",
       "      <th>contract_type_Two year</th>\n",
       "      <th>payment_type_Credit card (automatic)</th>\n",
       "      <th>payment_type_Electronic check</th>\n",
       "      <th>payment_type_Mailed check</th>\n",
       "      <th>internet_service_type_Fiber optic</th>\n",
       "      <th>internet_service_type_None</th>\n",
       "    </tr>\n",
       "  </thead>\n",
       "  <tbody>\n",
       "    <tr>\n",
       "      <th>3270</th>\n",
       "      <td>4673-KKSLS</td>\n",
       "      <td>Female</td>\n",
       "      <td>No</td>\n",
       "      <td>No</td>\n",
       "      <td>No</td>\n",
       "      <td>31</td>\n",
       "      <td>Yes</td>\n",
       "      <td>No</td>\n",
       "      <td>Yes</td>\n",
       "      <td>No</td>\n",
       "      <td>...</td>\n",
       "      <td>0</td>\n",
       "      <td>0</td>\n",
       "      <td>0</td>\n",
       "      <td>0</td>\n",
       "      <td>0</td>\n",
       "      <td>0</td>\n",
       "      <td>1</td>\n",
       "      <td>0</td>\n",
       "      <td>1</td>\n",
       "      <td>0</td>\n",
       "    </tr>\n",
       "    <tr>\n",
       "      <th>6084</th>\n",
       "      <td>8623-ULFNQ</td>\n",
       "      <td>Female</td>\n",
       "      <td>Yes</td>\n",
       "      <td>No</td>\n",
       "      <td>No</td>\n",
       "      <td>26</td>\n",
       "      <td>Yes</td>\n",
       "      <td>Yes</td>\n",
       "      <td>No</td>\n",
       "      <td>No</td>\n",
       "      <td>...</td>\n",
       "      <td>0</td>\n",
       "      <td>1</td>\n",
       "      <td>1</td>\n",
       "      <td>0</td>\n",
       "      <td>0</td>\n",
       "      <td>0</td>\n",
       "      <td>1</td>\n",
       "      <td>0</td>\n",
       "      <td>0</td>\n",
       "      <td>0</td>\n",
       "    </tr>\n",
       "    <tr>\n",
       "      <th>4470</th>\n",
       "      <td>6303-KFWSL</td>\n",
       "      <td>Female</td>\n",
       "      <td>No</td>\n",
       "      <td>No</td>\n",
       "      <td>No</td>\n",
       "      <td>29</td>\n",
       "      <td>Yes</td>\n",
       "      <td>Yes</td>\n",
       "      <td>No</td>\n",
       "      <td>Yes</td>\n",
       "      <td>...</td>\n",
       "      <td>0</td>\n",
       "      <td>0</td>\n",
       "      <td>1</td>\n",
       "      <td>1</td>\n",
       "      <td>0</td>\n",
       "      <td>0</td>\n",
       "      <td>1</td>\n",
       "      <td>0</td>\n",
       "      <td>0</td>\n",
       "      <td>0</td>\n",
       "    </tr>\n",
       "    <tr>\n",
       "      <th>428</th>\n",
       "      <td>0623-IIHUG</td>\n",
       "      <td>Female</td>\n",
       "      <td>Yes</td>\n",
       "      <td>No</td>\n",
       "      <td>No</td>\n",
       "      <td>21</td>\n",
       "      <td>No</td>\n",
       "      <td>No phone service</td>\n",
       "      <td>Yes</td>\n",
       "      <td>No</td>\n",
       "      <td>...</td>\n",
       "      <td>0</td>\n",
       "      <td>0</td>\n",
       "      <td>1</td>\n",
       "      <td>0</td>\n",
       "      <td>0</td>\n",
       "      <td>0</td>\n",
       "      <td>1</td>\n",
       "      <td>0</td>\n",
       "      <td>0</td>\n",
       "      <td>0</td>\n",
       "    </tr>\n",
       "    <tr>\n",
       "      <th>3329</th>\n",
       "      <td>4742-DRORA</td>\n",
       "      <td>Male</td>\n",
       "      <td>No</td>\n",
       "      <td>Yes</td>\n",
       "      <td>Yes</td>\n",
       "      <td>60</td>\n",
       "      <td>Yes</td>\n",
       "      <td>Yes</td>\n",
       "      <td>Yes</td>\n",
       "      <td>No</td>\n",
       "      <td>...</td>\n",
       "      <td>0</td>\n",
       "      <td>0</td>\n",
       "      <td>1</td>\n",
       "      <td>1</td>\n",
       "      <td>0</td>\n",
       "      <td>0</td>\n",
       "      <td>0</td>\n",
       "      <td>0</td>\n",
       "      <td>1</td>\n",
       "      <td>0</td>\n",
       "    </tr>\n",
       "  </tbody>\n",
       "</table>\n",
       "<p>5 rows × 51 columns</p>\n",
       "</div>"
      ],
      "text/plain": [
       "     customer_id  gender senior_citizen partner dependents  tenure  \\\n",
       "3270  4673-KKSLS  Female             No      No         No      31   \n",
       "6084  8623-ULFNQ  Female            Yes      No         No      26   \n",
       "4470  6303-KFWSL  Female             No      No         No      29   \n",
       "428   0623-IIHUG  Female            Yes      No         No      21   \n",
       "3329  4742-DRORA    Male             No     Yes        Yes      60   \n",
       "\n",
       "     phone_service    multiple_lines online_security online_backup  ...  \\\n",
       "3270           Yes                No             Yes            No  ...   \n",
       "6084           Yes               Yes              No            No  ...   \n",
       "4470           Yes               Yes              No           Yes  ...   \n",
       "428             No  No phone service             Yes            No  ...   \n",
       "3329           Yes               Yes             Yes            No  ...   \n",
       "\n",
       "     streaming_movies_No internet service streaming_movies_Yes  \\\n",
       "3270                                    0                    0   \n",
       "6084                                    0                    1   \n",
       "4470                                    0                    0   \n",
       "428                                     0                    0   \n",
       "3329                                    0                    0   \n",
       "\n",
       "     paperless_billing_Yes contract_type_One year contract_type_Two year  \\\n",
       "3270                     0                      0                      0   \n",
       "6084                     1                      0                      0   \n",
       "4470                     1                      1                      0   \n",
       "428                      1                      0                      0   \n",
       "3329                     1                      1                      0   \n",
       "\n",
       "      payment_type_Credit card (automatic)  payment_type_Electronic check  \\\n",
       "3270                                     0                              1   \n",
       "6084                                     0                              1   \n",
       "4470                                     0                              1   \n",
       "428                                      0                              1   \n",
       "3329                                     0                              0   \n",
       "\n",
       "     payment_type_Mailed check  internet_service_type_Fiber optic  \\\n",
       "3270                         0                                  1   \n",
       "6084                         0                                  0   \n",
       "4470                         0                                  0   \n",
       "428                          0                                  0   \n",
       "3329                         0                                  1   \n",
       "\n",
       "     internet_service_type_None  \n",
       "3270                          0  \n",
       "6084                          0  \n",
       "4470                          0  \n",
       "428                           0  \n",
       "3329                          0  \n",
       "\n",
       "[5 rows x 51 columns]"
      ]
     },
     "execution_count": 6,
     "metadata": {},
     "output_type": "execute_result"
    }
   ],
   "source": [
    "train, validate, test = prep_telco_data(telco_df)\n",
    "train.head()"
   ]
  },
  {
   "cell_type": "markdown",
   "id": "2dcfd4b5",
   "metadata": {},
   "source": [
    "# Preliminary Notes:\n",
    "- There were 11 customers that had no values in 'total_charges,' indicating that they had not been with the company long enough to be charged. This also means that they have not been a customer long enough to have churned, so these rows have been dropped. "
   ]
  },
  {
   "cell_type": "code",
   "execution_count": 7,
   "id": "7dd3c6e6",
   "metadata": {},
   "outputs": [],
   "source": [
    "# Key Takeaways:\n"
   ]
  },
  {
   "cell_type": "markdown",
   "id": "94f3ee64",
   "metadata": {},
   "source": [
    "# Univariate Exploration:"
   ]
  },
  {
   "cell_type": "code",
   "execution_count": 8,
   "id": "fdbdb5e1",
   "metadata": {},
   "outputs": [
    {
     "data": {
      "text/plain": [
       "customer_id                               object\n",
       "gender                                    object\n",
       "senior_citizen                            object\n",
       "partner                                   object\n",
       "dependents                                object\n",
       "tenure                                     int64\n",
       "phone_service                             object\n",
       "multiple_lines                            object\n",
       "online_security                           object\n",
       "online_backup                             object\n",
       "device_protection                         object\n",
       "tech_support                              object\n",
       "streaming_tv                              object\n",
       "streaming_movies                          object\n",
       "paperless_billing                         object\n",
       "monthly_charges                          float64\n",
       "total_charges                            float64\n",
       "churn                                     object\n",
       "contract_type_id.1                         int64\n",
       "contract_type                             object\n",
       "payment_type_id.1                          int64\n",
       "payment_type                              object\n",
       "internet_service_type_id.1                 int64\n",
       "internet_service_type                     object\n",
       "gender_Male                                uint8\n",
       "senior_citizen_Yes                         uint8\n",
       "partner_Yes                                uint8\n",
       "dependents_Yes                             uint8\n",
       "phone_service_Yes                          uint8\n",
       "multiple_lines_No phone service            uint8\n",
       "multiple_lines_Yes                         uint8\n",
       "online_security_No internet service        uint8\n",
       "online_security_Yes                        uint8\n",
       "online_backup_No internet service          uint8\n",
       "online_backup_Yes                          uint8\n",
       "device_protection_No internet service      uint8\n",
       "device_protection_Yes                      uint8\n",
       "tech_support_No internet service           uint8\n",
       "tech_support_Yes                           uint8\n",
       "streaming_tv_No internet service           uint8\n",
       "streaming_tv_Yes                           uint8\n",
       "streaming_movies_No internet service       uint8\n",
       "streaming_movies_Yes                       uint8\n",
       "paperless_billing_Yes                      uint8\n",
       "contract_type_One year                     uint8\n",
       "contract_type_Two year                     uint8\n",
       "payment_type_Credit card (automatic)       uint8\n",
       "payment_type_Electronic check              uint8\n",
       "payment_type_Mailed check                  uint8\n",
       "internet_service_type_Fiber optic          uint8\n",
       "internet_service_type_None                 uint8\n",
       "dtype: object"
      ]
     },
     "execution_count": 8,
     "metadata": {},
     "output_type": "execute_result"
    }
   ],
   "source": [
    "train.dtypes"
   ]
  },
  {
   "cell_type": "code",
   "execution_count": 9,
   "id": "a054160d",
   "metadata": {},
   "outputs": [
    {
     "data": {
      "text/plain": [
       "Index(['customer_id', 'gender', 'senior_citizen', 'partner', 'dependents',\n",
       "       'tenure', 'phone_service', 'multiple_lines', 'online_security',\n",
       "       'online_backup', 'device_protection', 'tech_support', 'streaming_tv',\n",
       "       'streaming_movies', 'paperless_billing', 'monthly_charges',\n",
       "       'total_charges', 'churn', 'contract_type_id.1', 'contract_type',\n",
       "       'payment_type_id.1', 'payment_type', 'internet_service_type_id.1',\n",
       "       'internet_service_type', 'gender_Male', 'senior_citizen_Yes',\n",
       "       'partner_Yes', 'dependents_Yes', 'phone_service_Yes',\n",
       "       'multiple_lines_No phone service', 'multiple_lines_Yes',\n",
       "       'online_security_No internet service', 'online_security_Yes',\n",
       "       'online_backup_No internet service', 'online_backup_Yes',\n",
       "       'device_protection_No internet service', 'device_protection_Yes',\n",
       "       'tech_support_No internet service', 'tech_support_Yes',\n",
       "       'streaming_tv_No internet service', 'streaming_tv_Yes',\n",
       "       'streaming_movies_No internet service', 'streaming_movies_Yes',\n",
       "       'paperless_billing_Yes', 'contract_type_One year',\n",
       "       'contract_type_Two year', 'payment_type_Credit card (automatic)',\n",
       "       'payment_type_Electronic check', 'payment_type_Mailed check',\n",
       "       'internet_service_type_Fiber optic', 'internet_service_type_None'],\n",
       "      dtype='object')"
      ]
     },
     "execution_count": 9,
     "metadata": {},
     "output_type": "execute_result"
    }
   ],
   "source": [
    "train.columns"
   ]
  },
  {
   "cell_type": "markdown",
   "id": "4b9b5d35",
   "metadata": {},
   "source": [
    "## Number Churned:"
   ]
  },
  {
   "cell_type": "code",
   "execution_count": 10,
   "id": "c5457035",
   "metadata": {},
   "outputs": [
    {
     "data": {
      "text/plain": [
       "<AxesSubplot:title={'center':'A Large Number of Customers Churned'}, xlabel='churn', ylabel='Count'>"
      ]
     },
     "execution_count": 10,
     "metadata": {},
     "output_type": "execute_result"
    },
    {
     "data": {
      "image/png": "[encoded data removed]",
      "text/plain": [
       "<Figure size 432x288 with 1 Axes>"
      ]
     },
     "metadata": {
      "needs_background": "light"
     },
     "output_type": "display_data"
    }
   ],
   "source": [
    "plt.title(\"A Large Number of Customers Churned\")\n",
    "sns.histplot(train, x = 'churn', legend = True)"
   ]
  },
  {
   "cell_type": "code",
   "execution_count": 11,
   "id": "508f4a92",
   "metadata": {},
   "outputs": [
    {
     "data": {
      "text/plain": [
       "26.57777777777778"
      ]
     },
     "execution_count": 11,
     "metadata": {},
     "output_type": "execute_result"
    }
   ],
   "source": [
    "# Percentage that Churned:\n",
    "\n",
    "(train[train.churn == 'Yes'].count().churn / train.churn.shape[0]) * 100\n",
    "\n",
    "#26.58% of customer churned this month."
   ]
  },
  {
   "cell_type": "markdown",
   "id": "8ccaec8f",
   "metadata": {},
   "source": [
    "## Customer Count by Gender:"
   ]
  },
  {
   "cell_type": "code",
   "execution_count": 12,
   "id": "86751c31",
   "metadata": {},
   "outputs": [
    {
     "data": {
      "text/plain": [
       "<AxesSubplot:title={'center':'Gender Appears to be Fairly Evenly Distributed'}, xlabel='gender', ylabel='Count'>"
      ]
     },
     "execution_count": 12,
     "metadata": {},
     "output_type": "execute_result"
    },
    {
     "data": {
      "image/png": "[encoded data removed]",
      "text/plain": [
       "<Figure size 432x288 with 1 Axes>"
      ]
     },
     "metadata": {
      "needs_background": "light"
     },
     "output_type": "display_data"
    }
   ],
   "source": [
    "plt.title(\"Gender Appears to be Fairly Evenly Distributed\")\n",
    "sns.histplot(train, x = 'gender', legend = True)"
   ]
  },
  {
   "cell_type": "code",
   "execution_count": 13,
   "id": "acfc3855",
   "metadata": {},
   "outputs": [
    {
     "data": {
      "text/plain": [
       "Male      2315\n",
       "Female    2185\n",
       "Name: gender, dtype: int64"
      ]
     },
     "execution_count": 13,
     "metadata": {},
     "output_type": "execute_result"
    }
   ],
   "source": [
    "train.gender.value_counts()\n",
    "\n",
    "#There are slightly more males than females."
   ]
  },
  {
   "cell_type": "markdown",
   "id": "7dcd703a",
   "metadata": {},
   "source": [
    "## Customer Count of Senior Citizens"
   ]
  },
  {
   "cell_type": "code",
   "execution_count": 14,
   "id": "84e97838",
   "metadata": {},
   "outputs": [
    {
     "data": {
      "text/plain": [
       "<AxesSubplot:title={'center':'It Appears Senior Citizens Are a Small Portion of Customer Base'}, xlabel='senior_citizen', ylabel='Count'>"
      ]
     },
     "execution_count": 14,
     "metadata": {},
     "output_type": "execute_result"
    },
    {
     "data": {
      "image/png": "[encoded data removed]",
      "text/plain": [
       "<Figure size 432x288 with 1 Axes>"
      ]
     },
     "metadata": {
      "needs_background": "light"
     },
     "output_type": "display_data"
    }
   ],
   "source": [
    "plt.title(\"It Appears Senior Citizens Are a Small Portion of Customer Base\")\n",
    "sns.histplot(train, x = 'senior_citizen', hue = 'churn', legend = True)"
   ]
  },
  {
   "cell_type": "code",
   "execution_count": 15,
   "id": "cd862e91",
   "metadata": {},
   "outputs": [
    {
     "data": {
      "text/plain": [
       "<AxesSubplot:xlabel='senior_citizen', ylabel='Count'>"
      ]
     },
     "execution_count": 15,
     "metadata": {},
     "output_type": "execute_result"
    },
    {
     "data": {
      "image/png": "[encoded data removed]",
      "text/plain": [
       "<Figure size 504x360 with 1 Axes>"
      ]
     },
     "metadata": {
      "needs_background": "light"
     },
     "output_type": "display_data"
    }
   ],
   "source": [
    "f = plt.figure(figsize=(7,5))\n",
    "ax = f.add_subplot(1,1,1)\n",
    "\n",
    "sns.histplot(data= train, ax=ax, stat=\"count\", multiple=\"stack\",\n",
    "             x=\"senior_citizen\", kde=False, hue=\"churn\",\n",
    "             element=\"bars\", legend=True)\n",
    "\n",
    "#look into making the colors of 'no' something like gray\n",
    "#make the 'yes' something like red (bad, generally) to stand out"
   ]
  },
  {
   "cell_type": "code",
   "execution_count": 16,
   "id": "4e9c9986",
   "metadata": {},
   "outputs": [
    {
     "data": {
      "text/plain": [
       "No     3771\n",
       "Yes     729\n",
       "Name: senior_citizen, dtype: int64"
      ]
     },
     "execution_count": 16,
     "metadata": {},
     "output_type": "execute_result"
    }
   ],
   "source": [
    "train.senior_citizen.value_counts()"
   ]
  },
  {
   "cell_type": "code",
   "execution_count": 17,
   "id": "03d98f09",
   "metadata": {},
   "outputs": [
    {
     "data": {
      "text/plain": [
       "0.0"
      ]
     },
     "execution_count": 17,
     "metadata": {},
     "output_type": "execute_result"
    }
   ],
   "source": [
    "(train[train.senior_citizen == 1].shape[0] / train.senior_citizen.shape[0]) * 100\n",
    "#16.2% of customers are senior citizens."
   ]
  },
  {
   "cell_type": "markdown",
   "id": "d5751502",
   "metadata": {},
   "source": [
    "## Rather than type them all out individually as above, I can script the graphing of all these variables with churn (and do a sort of hybrid bivariate and univariate analysis):\n",
    "- I can use the below to look for different shapes between the two sides, and shows which *categorical* variables *may* have some relationship with target variable\n",
    "- I will have to do statistical analysis to determine level of significance"
   ]
  },
  {
   "cell_type": "markdown",
   "id": "249c5253",
   "metadata": {},
   "source": [
    "### Takeaways:\n",
    "- Things to look at:\n",
    "    - Senior Citizens? - This relationship seems iffy\n",
    "    - Partnered\n",
    "    - Dependents? - This relationship doesn't *appear* as strong as whether someone is partnered\n",
    "    - Multiple lines - Appears multi-line accounts are less likely to churn\n",
    "    - Add-ons seem like a major predictor (however, I want to be sure I'm not assigning causal relationship where there is only correlation. Could these and churn be driven by some other shared cause e.g. contract type?)\n",
    "        - online_security: those who don't have it are MUCH more likely to churn, despite it being less common to have it\n",
    "        - online_backup: those who don't have it are more likely to churn, despite it being less common to have it\n",
    "        - device_protection: those who do not have it are much more likely to churn, despite it being less common to have it. \n",
    "        - tech_support: those who do not have it are much more likely to churn, despite it being less common to have it. \n",
    "        - streaming_tv: There may be something here, but I do want to check the degree to which it impacts churn\n",
    "        - streaming_movies: seems similar to TV, so I need to check this, too. \n",
    "    - paperless_billing: there seems to be a relationship.\n",
    "        - Is there a contract type that typically goes paperless? Is this a driver, or tied to another shared cause?\n",
    "    - contract_type: this is a MAJOR predictor of churn. Monthly churn is incredibly high, while 1 and 2 year are naturally MUCH lower (they have 1/12 or 1/24 chance of being able to churn here - doesn't necessarily imply they're happier.)\n",
    "    - payment_type: customers who pay by electronic check are MUCH more likely to churn than those with other methods (again, I want to be sure these aren't both symptoms of the same cause, rather than assigning a direct causal relationship between payment type and churn, just to be sure.)\n",
    "    - internet_service_type: Those who churn are much more likely to have had fiber optic service. \n",
    "    \n",
    "#### Adam made the point that I would likely need some more detailed, multivariate analysis to control for things above (like multi-line accounts)"
   ]
  },
  {
   "cell_type": "code",
   "execution_count": 18,
   "id": "fd574b82",
   "metadata": {},
   "outputs": [
    {
     "data": {
      "text/plain": [
       "<Figure size 432x288 with 0 Axes>"
      ]
     },
     "metadata": {},
     "output_type": "display_data"
    },
    {
     "data": {
      "image/png": "[encoded data removed]",
      "text/plain": [
       "<Figure size 720x360 with 2 Axes>"
      ]
     },
     "metadata": {
      "needs_background": "light"
     },
     "output_type": "display_data"
    },
    {
     "data": {
      "image/png": "[encoded data removed]",
      "text/plain": [
       "<Figure size 720x360 with 2 Axes>"
      ]
     },
     "metadata": {
      "needs_background": "light"
     },
     "output_type": "display_data"
    },
    {
     "data": {
      "image/png": "[encoded data removed]",
      "text/plain": [
       "<Figure size 720x360 with 2 Axes>"
      ]
     },
     "metadata": {
      "needs_background": "light"
     },
     "output_type": "display_data"
    },
    {
     "data": {
      "image/png": "[encoded data removed]",
      "text/plain": [
       "<Figure size 720x360 with 2 Axes>"
      ]
     },
     "metadata": {
      "needs_background": "light"
     },
     "output_type": "display_data"
    },
    {
     "data": {
      "image/png": "[encoded data removed]",
      "text/plain": [
       "<Figure size 720x360 with 2 Axes>"
      ]
     },
     "metadata": {
      "needs_background": "light"
     },
     "output_type": "display_data"
    },
    {
     "data": {
      "image/png": "[encoded data removed]",
      "text/plain": [
       "<Figure size 720x360 with 2 Axes>"
      ]
     },
     "metadata": {
      "needs_background": "light"
     },
     "output_type": "display_data"
    },
    {
     "data": {
      "image/png": "[encoded data removed]",
      "text/plain": [
       "<Figure size 720x360 with 2 Axes>"
      ]
     },
     "metadata": {
      "needs_background": "light"
     },
     "output_type": "display_data"
    },
    {
     "data": {
      "image/png": "[encoded data removed]",
      "text/plain": [
       "<Figure size 720x360 with 2 Axes>"
      ]
     },
     "metadata": {
      "needs_background": "light"
     },
     "output_type": "display_data"
    },
    {
     "data": {
      "image/png": "[encoded data removed]",
      "text/plain": [
       "<Figure size 720x360 with 2 Axes>"
      ]
     },
     "metadata": {
      "needs_background": "light"
     },
     "output_type": "display_data"
    },
    {
     "data": {
      "image/png": "[encoded data removed]",
      "text/plain": [
       "<Figure size 720x360 with 2 Axes>"
      ]
     },
     "metadata": {
      "needs_background": "light"
     },
     "output_type": "display_data"
    },
    {
     "data": {
      "image/png": "[encoded data removed]",
      "text/plain": [
       "<Figure size 720x360 with 2 Axes>"
      ]
     },
     "metadata": {
      "needs_background": "light"
     },
     "output_type": "display_data"
    },
    {
     "data": {
      "image/png": "[encoded data removed]",
      "text/plain": [
       "<Figure size 720x360 with 2 Axes>"
      ]
     },
     "metadata": {
      "needs_background": "light"
     },
     "output_type": "display_data"
    },
    {
     "data": {
      "image/png": "[encoded data removed]",
      "text/plain": [
       "<Figure size 720x360 with 2 Axes>"
      ]
     },
     "metadata": {
      "needs_background": "light"
     },
     "output_type": "display_data"
    },
    {
     "data": {
      "image/png": "[encoded data removed]",
      "text/plain": [
       "<Figure size 720x360 with 2 Axes>"
      ]
     },
     "metadata": {
      "needs_background": "light"
     },
     "output_type": "display_data"
    },
    {
     "data": {
      "image/png": "[encoded data removed]",
      "text/plain": [
       "<Figure size 720x360 with 2 Axes>"
      ]
     },
     "metadata": {
      "needs_background": "light"
     },
     "output_type": "display_data"
    },
    {
     "data": {
      "image/png": "[encoded data removed]",
      "text/plain": [
       "<Figure size 720x360 with 2 Axes>"
      ]
     },
     "metadata": {
      "needs_background": "light"
     },
     "output_type": "display_data"
    },
    {
     "data": {
      "image/png": "[encoded data removed]",
      "text/plain": [
       "<Figure size 720x360 with 2 Axes>"
      ]
     },
     "metadata": {
      "needs_background": "light"
     },
     "output_type": "display_data"
    }
   ],
   "source": [
    "for i, col in enumerate(train.select_dtypes('object').drop(columns = 'customer_id')):\n",
    "    plt.figure(i)\n",
    "    sns.displot(x = train[col], col = train.churn)"
   ]
  },
  {
   "cell_type": "code",
   "execution_count": 19,
   "id": "b4e1e94b",
   "metadata": {},
   "outputs": [
    {
     "name": "stdout",
     "output_type": "stream",
     "text": [
      "tenure\n"
     ]
    },
    {
     "data": {
      "image/png": "[encoded data removed]",
      "text/plain": [
       "<Figure size 432x288 with 1 Axes>"
      ]
     },
     "metadata": {
      "needs_background": "light"
     },
     "output_type": "display_data"
    },
    {
     "name": "stdout",
     "output_type": "stream",
     "text": [
      "monthly_charges\n"
     ]
    },
    {
     "data": {
      "image/png": "[encoded data removed]",
      "text/plain": [
       "<Figure size 432x288 with 1 Axes>"
      ]
     },
     "metadata": {
      "needs_background": "light"
     },
     "output_type": "display_data"
    },
    {
     "name": "stdout",
     "output_type": "stream",
     "text": [
      "total_charges\n"
     ]
    },
    {
     "data": {
      "image/png": "[encoded data removed]",
      "text/plain": [
       "<Figure size 432x288 with 1 Axes>"
      ]
     },
     "metadata": {
      "needs_background": "light"
     },
     "output_type": "display_data"
    },
    {
     "name": "stdout",
     "output_type": "stream",
     "text": [
      "contract_type_id.1\n"
     ]
    },
    {
     "data": {
      "image/png": "[encoded data removed]",
      "text/plain": [
       "<Figure size 432x288 with 1 Axes>"
      ]
     },
     "metadata": {
      "needs_background": "light"
     },
     "output_type": "display_data"
    },
    {
     "name": "stdout",
     "output_type": "stream",
     "text": [
      "payment_type_id.1\n"
     ]
    },
    {
     "data": {
      "image/png": "[encoded data removed]",
      "text/plain": [
       "<Figure size 432x288 with 1 Axes>"
      ]
     },
     "metadata": {
      "needs_background": "light"
     },
     "output_type": "display_data"
    },
    {
     "name": "stdout",
     "output_type": "stream",
     "text": [
      "internet_service_type_id.1\n"
     ]
    },
    {
     "data": {
      "image/png": "[encoded data removed]",
      "text/plain": [
       "<Figure size 432x288 with 1 Axes>"
      ]
     },
     "metadata": {
      "needs_background": "light"
     },
     "output_type": "display_data"
    },
    {
     "name": "stdout",
     "output_type": "stream",
     "text": [
      "gender_Male\n"
     ]
    },
    {
     "data": {
      "image/png": "[encoded data removed]",
      "text/plain": [
       "<Figure size 432x288 with 1 Axes>"
      ]
     },
     "metadata": {
      "needs_background": "light"
     },
     "output_type": "display_data"
    },
    {
     "name": "stdout",
     "output_type": "stream",
     "text": [
      "senior_citizen_Yes\n"
     ]
    },
    {
     "data": {
      "image/png": "[encoded data removed]",
      "text/plain": [
       "<Figure size 432x288 with 1 Axes>"
      ]
     },
     "metadata": {
      "needs_background": "light"
     },
     "output_type": "display_data"
    },
    {
     "name": "stdout",
     "output_type": "stream",
     "text": [
      "partner_Yes\n"
     ]
    },
    {
     "data": {
      "image/png": "[encoded data removed]",
      "text/plain": [
       "<Figure size 432x288 with 1 Axes>"
      ]
     },
     "metadata": {
      "needs_background": "light"
     },
     "output_type": "display_data"
    },
    {
     "name": "stdout",
     "output_type": "stream",
     "text": [
      "dependents_Yes\n"
     ]
    },
    {
     "data": {
      "image/png": "[encoded data removed]",
      "text/plain": [
       "<Figure size 432x288 with 1 Axes>"
      ]
     },
     "metadata": {
      "needs_background": "light"
     },
     "output_type": "display_data"
    },
    {
     "name": "stdout",
     "output_type": "stream",
     "text": [
      "phone_service_Yes\n"
     ]
    },
    {
     "data": {
      "image/png": "[encoded data removed]",
      "text/plain": [
       "<Figure size 432x288 with 1 Axes>"
      ]
     },
     "metadata": {
      "needs_background": "light"
     },
     "output_type": "display_data"
    },
    {
     "name": "stdout",
     "output_type": "stream",
     "text": [
      "multiple_lines_No phone service\n"
     ]
    },
    {
     "data": {
      "image/png": "[encoded data removed]",
      "text/plain": [
       "<Figure size 432x288 with 1 Axes>"
      ]
     },
     "metadata": {
      "needs_background": "light"
     },
     "output_type": "display_data"
    },
    {
     "name": "stdout",
     "output_type": "stream",
     "text": [
      "multiple_lines_Yes\n"
     ]
    },
    {
     "data": {
      "image/png": "[encoded data removed]",
      "text/plain": [
       "<Figure size 432x288 with 1 Axes>"
      ]
     },
     "metadata": {
      "needs_background": "light"
     },
     "output_type": "display_data"
    },
    {
     "name": "stdout",
     "output_type": "stream",
     "text": [
      "online_security_No internet service\n"
     ]
    },
    {
     "data": {
      "image/png": "[encoded data removed]",
      "text/plain": [
       "<Figure size 432x288 with 1 Axes>"
      ]
     },
     "metadata": {
      "needs_background": "light"
     },
     "output_type": "display_data"
    },
    {
     "name": "stdout",
     "output_type": "stream",
     "text": [
      "online_security_Yes\n"
     ]
    },
    {
     "data": {
      "image/png": "[encoded data removed]",
      "text/plain": [
       "<Figure size 432x288 with 1 Axes>"
      ]
     },
     "metadata": {
      "needs_background": "light"
     },
     "output_type": "display_data"
    },
    {
     "name": "stdout",
     "output_type": "stream",
     "text": [
      "online_backup_No internet service\n"
     ]
    },
    {
     "data": {
      "image/png": "[encoded data removed]",
      "text/plain": [
       "<Figure size 432x288 with 1 Axes>"
      ]
     },
     "metadata": {
      "needs_background": "light"
     },
     "output_type": "display_data"
    },
    {
     "name": "stdout",
     "output_type": "stream",
     "text": [
      "online_backup_Yes\n"
     ]
    },
    {
     "data": {
      "image/png": "[encoded data removed]",
      "text/plain": [
       "<Figure size 432x288 with 1 Axes>"
      ]
     },
     "metadata": {
      "needs_background": "light"
     },
     "output_type": "display_data"
    },
    {
     "name": "stdout",
     "output_type": "stream",
     "text": [
      "device_protection_No internet service\n"
     ]
    },
    {
     "data": {
      "image/png": "[encoded data removed]",
      "text/plain": [
       "<Figure size 432x288 with 1 Axes>"
      ]
     },
     "metadata": {
      "needs_background": "light"
     },
     "output_type": "display_data"
    },
    {
     "name": "stdout",
     "output_type": "stream",
     "text": [
      "device_protection_Yes\n"
     ]
    },
    {
     "data": {
      "image/png": "[encoded data removed]",
      "text/plain": [
       "<Figure size 432x288 with 1 Axes>"
      ]
     },
     "metadata": {
      "needs_background": "light"
     },
     "output_type": "display_data"
    },
    {
     "name": "stdout",
     "output_type": "stream",
     "text": [
      "tech_support_No internet service\n"
     ]
    },
    {
     "data": {
      "image/png": "[encoded data removed]",
      "text/plain": [
       "<Figure size 432x288 with 1 Axes>"
      ]
     },
     "metadata": {
      "needs_background": "light"
     },
     "output_type": "display_data"
    },
    {
     "name": "stdout",
     "output_type": "stream",
     "text": [
      "tech_support_Yes\n"
     ]
    },
    {
     "data": {
      "image/png": "[encoded data removed]",
      "text/plain": [
       "<Figure size 432x288 with 1 Axes>"
      ]
     },
     "metadata": {
      "needs_background": "light"
     },
     "output_type": "display_data"
    },
    {
     "name": "stdout",
     "output_type": "stream",
     "text": [
      "streaming_tv_No internet service\n"
     ]
    },
    {
     "data": {
      "image/png": "[encoded data removed]",
      "text/plain": [
       "<Figure size 432x288 with 1 Axes>"
      ]
     },
     "metadata": {
      "needs_background": "light"
     },
     "output_type": "display_data"
    },
    {
     "name": "stdout",
     "output_type": "stream",
     "text": [
      "streaming_tv_Yes\n"
     ]
    },
    {
     "data": {
      "image/png": "[encoded data removed]",
      "text/plain": [
       "<Figure size 432x288 with 1 Axes>"
      ]
     },
     "metadata": {
      "needs_background": "light"
     },
     "output_type": "display_data"
    },
    {
     "name": "stdout",
     "output_type": "stream",
     "text": [
      "streaming_movies_No internet service\n"
     ]
    },
    {
     "data": {
      "image/png": "[encoded data removed]",
      "text/plain": [
       "<Figure size 432x288 with 1 Axes>"
      ]
     },
     "metadata": {
      "needs_background": "light"
     },
     "output_type": "display_data"
    },
    {
     "name": "stdout",
     "output_type": "stream",
     "text": [
      "streaming_movies_Yes\n"
     ]
    },
    {
     "data": {
      "image/png": "[encoded data removed]",
      "text/plain": [
       "<Figure size 432x288 with 1 Axes>"
      ]
     },
     "metadata": {
      "needs_background": "light"
     },
     "output_type": "display_data"
    },
    {
     "name": "stdout",
     "output_type": "stream",
     "text": [
      "paperless_billing_Yes\n"
     ]
    },
    {
     "data": {
      "image/png": "[encoded data removed]",
      "text/plain": [
       "<Figure size 432x288 with 1 Axes>"
      ]
     },
     "metadata": {
      "needs_background": "light"
     },
     "output_type": "display_data"
    },
    {
     "name": "stdout",
     "output_type": "stream",
     "text": [
      "contract_type_One year\n"
     ]
    },
    {
     "data": {
      "image/png": "[encoded data removed]",
      "text/plain": [
       "<Figure size 432x288 with 1 Axes>"
      ]
     },
     "metadata": {
      "needs_background": "light"
     },
     "output_type": "display_data"
    },
    {
     "name": "stdout",
     "output_type": "stream",
     "text": [
      "contract_type_Two year\n"
     ]
    },
    {
     "data": {
      "image/png": "[encoded data removed]",
      "text/plain": [
       "<Figure size 432x288 with 1 Axes>"
      ]
     },
     "metadata": {
      "needs_background": "light"
     },
     "output_type": "display_data"
    },
    {
     "name": "stdout",
     "output_type": "stream",
     "text": [
      "payment_type_Credit card (automatic)\n"
     ]
    },
    {
     "data": {
      "image/png": "[encoded data removed]",
      "text/plain": [
       "<Figure size 432x288 with 1 Axes>"
      ]
     },
     "metadata": {
      "needs_background": "light"
     },
     "output_type": "display_data"
    },
    {
     "name": "stdout",
     "output_type": "stream",
     "text": [
      "payment_type_Electronic check\n"
     ]
    },
    {
     "data": {
      "image/png": "[encoded data removed]",
      "text/plain": [
       "<Figure size 432x288 with 1 Axes>"
      ]
     },
     "metadata": {
      "needs_background": "light"
     },
     "output_type": "display_data"
    },
    {
     "name": "stdout",
     "output_type": "stream",
     "text": [
      "payment_type_Mailed check\n"
     ]
    },
    {
     "data": {
      "image/png": "[encoded data removed]",
      "text/plain": [
       "<Figure size 432x288 with 1 Axes>"
      ]
     },
     "metadata": {
      "needs_background": "light"
     },
     "output_type": "display_data"
    },
    {
     "name": "stdout",
     "output_type": "stream",
     "text": [
      "internet_service_type_Fiber optic\n"
     ]
    },
    {
     "data": {
      "image/png": "[encoded data removed]",
      "text/plain": [
       "<Figure size 432x288 with 1 Axes>"
      ]
     },
     "metadata": {
      "needs_background": "light"
     },
     "output_type": "display_data"
    },
    {
     "name": "stdout",
     "output_type": "stream",
     "text": [
      "internet_service_type_None\n"
     ]
    },
    {
     "data": {
      "image/png": "[encoded data removed]",
      "text/plain": [
       "<Figure size 432x288 with 1 Axes>"
      ]
     },
     "metadata": {
      "needs_background": "light"
     },
     "output_type": "display_data"
    }
   ],
   "source": [
    "numcols = [col for col in train.columns if train[col].dtype != 'O']\n",
    "\n",
    "for col in numcols:\n",
    "    print(col)\n",
    "    train[col].hist()\n",
    "    plt.show()"
   ]
  },
  {
   "cell_type": "markdown",
   "id": "b5ff20c9",
   "metadata": {},
   "source": [
    "# Deeper Analysis:\n",
    "- I want to check which is the best predictor of churn, and then compare the other factors to that to see if perhaps it is also driving enrollment in things like add-ons, which may mean they have *shared* causes with churn rather than causing churn themselves. \n",
    "    - I can dive into this deeper analysis later on. This will require some more complex, multivariate statistics."
   ]
  },
  {
   "cell_type": "markdown",
   "id": "425b5558",
   "metadata": {},
   "source": [
    "# Modeling:"
   ]
  },
  {
   "cell_type": "code",
   "execution_count": 20,
   "id": "d3eb842c",
   "metadata": {},
   "outputs": [
    {
     "data": {
      "text/plain": [
       "Index(['customer_id', 'gender', 'senior_citizen', 'partner', 'dependents',\n",
       "       'tenure', 'phone_service', 'multiple_lines', 'internet_service_type_id',\n",
       "       'online_security', 'online_backup', 'device_protection', 'tech_support',\n",
       "       'streaming_tv', 'streaming_movies', 'contract_type_id',\n",
       "       'paperless_billing', 'payment_type_id', 'monthly_charges',\n",
       "       'total_charges', 'churn', 'contract_type_id.1', 'contract_type',\n",
       "       'payment_type_id.1', 'payment_type', 'internet_service_type_id.1',\n",
       "       'internet_service_type'],\n",
       "      dtype='object')"
      ]
     },
     "execution_count": 20,
     "metadata": {},
     "output_type": "execute_result"
    }
   ],
   "source": [
    "telco_df.columns"
   ]
  },
  {
   "cell_type": "code",
   "execution_count": 21,
   "id": "bb799d8d",
   "metadata": {},
   "outputs": [
    {
     "data": {
      "text/plain": [
       "['customer_id',\n",
       " 'gender',\n",
       " 'senior_citizen',\n",
       " 'partner',\n",
       " 'dependents',\n",
       " 'tenure',\n",
       " 'phone_service',\n",
       " 'multiple_lines',\n",
       " 'online_security',\n",
       " 'online_backup',\n",
       " 'device_protection',\n",
       " 'tech_support',\n",
       " 'streaming_tv',\n",
       " 'streaming_movies',\n",
       " 'paperless_billing',\n",
       " 'monthly_charges',\n",
       " 'total_charges',\n",
       " 'churn',\n",
       " 'contract_type_id.1',\n",
       " 'contract_type',\n",
       " 'payment_type_id.1',\n",
       " 'payment_type',\n",
       " 'internet_service_type_id.1',\n",
       " 'internet_service_type',\n",
       " 'gender_Male',\n",
       " 'senior_citizen_Yes',\n",
       " 'partner_Yes',\n",
       " 'dependents_Yes',\n",
       " 'phone_service_Yes',\n",
       " 'multiple_lines_No phone service',\n",
       " 'multiple_lines_Yes',\n",
       " 'online_security_No internet service',\n",
       " 'online_security_Yes',\n",
       " 'online_backup_No internet service',\n",
       " 'online_backup_Yes',\n",
       " 'device_protection_No internet service',\n",
       " 'device_protection_Yes',\n",
       " 'tech_support_No internet service',\n",
       " 'tech_support_Yes',\n",
       " 'streaming_tv_No internet service',\n",
       " 'streaming_tv_Yes',\n",
       " 'streaming_movies_No internet service',\n",
       " 'streaming_movies_Yes',\n",
       " 'paperless_billing_Yes',\n",
       " 'contract_type_One year',\n",
       " 'contract_type_Two year',\n",
       " 'payment_type_Credit card (automatic)',\n",
       " 'payment_type_Electronic check',\n",
       " 'payment_type_Mailed check',\n",
       " 'internet_service_type_Fiber optic',\n",
       " 'internet_service_type_None']"
      ]
     },
     "execution_count": 21,
     "metadata": {},
     "output_type": "execute_result"
    }
   ],
   "source": [
    "train.columns.tolist()"
   ]
  },
  {
   "cell_type": "code",
   "execution_count": 22,
   "id": "823b5f06",
   "metadata": {},
   "outputs": [],
   "source": [
    "X_train = train.drop(columns = ['customer_id', 'gender', 'senior_citizen', 'partner', 'dependents', 'phone_service', 'multiple_lines', 'online_security', 'online_backup', 'device_protection',\n",
    " 'tech_support', 'streaming_tv', 'streaming_movies', 'paperless_billing', 'monthly_charges', 'total_charges', 'churn', 'contract_type', 'payment_type', 'internet_service_type'])\n",
    "y_train = train.churn\n",
    "\n",
    "X_validate = validate.drop(columns = ['customer_id', 'gender', 'senior_citizen', 'partner', 'dependents', 'phone_service', 'multiple_lines', 'online_security', 'online_backup', 'device_protection',\n",
    " 'tech_support', 'streaming_tv', 'streaming_movies', 'paperless_billing', 'monthly_charges', 'total_charges', 'churn', 'contract_type', 'payment_type', 'internet_service_type'])\n",
    "y_validate = validate.churn\n",
    "\n",
    "X_test = test.drop(columns = ['customer_id', 'gender', 'senior_citizen', 'partner', 'dependents', 'phone_service', 'multiple_lines', 'online_security', 'online_backup', 'device_protection',\n",
    " 'tech_support', 'streaming_tv', 'streaming_movies', 'paperless_billing', 'monthly_charges', 'total_charges', 'churn', 'contract_type', 'payment_type', 'internet_service_type'])\n",
    "y_test = test.churn"
   ]
  },
  {
   "cell_type": "code",
   "execution_count": 23,
   "id": "ab93281f",
   "metadata": {},
   "outputs": [
    {
     "data": {
      "text/plain": [
       "0.7342222222222222"
      ]
     },
     "execution_count": 23,
     "metadata": {},
     "output_type": "execute_result"
    }
   ],
   "source": [
    "#Defining the baseline prediction:\n",
    "train.churn.mode()\n",
    "#The mode is that a customer did not churn, so our baseline guess would be that a customer will not churn. \n",
    "\n",
    "\n",
    "#Calculating the percentage of customers that churned:\n",
    "train[train['churn'] == 'No'].shape[0] / train.shape[0]\n",
    "#Our baseline model would be correct ~73% of the time."
   ]
  },
  {
   "cell_type": "markdown",
   "id": "ef9a4f88",
   "metadata": {},
   "source": [
    "## Decision Tree:"
   ]
  },
  {
   "cell_type": "code",
   "execution_count": 24,
   "id": "9f535845",
   "metadata": {},
   "outputs": [],
   "source": [
    "#Creating the model object and fitting it to the training set:\n",
    "clf = DecisionTreeClassifier(max_depth = 3, random_state = 123)\n",
    "clf = clf.fit(X_train, y_train)"
   ]
  },
  {
   "cell_type": "code",
   "execution_count": 25,
   "id": "e706869a",
   "metadata": {},
   "outputs": [
    {
     "data": {
      "text/plain": [
       "[Text(362.7, 332.955, 'contract_type_id.1 <= 1.5\\ngini = 0.39\\nsamples = 4500\\nvalue = [3304, 1196]\\nclass = did not churn'),\n",
       " Text(181.35, 237.825, 'internet_service_type_Fiber optic <= 0.5\\ngini = 0.488\\nsamples = 2460\\nvalue = [1418, 1042]\\nclass = did not churn'),\n",
       " Text(90.675, 142.695, 'tenure <= 5.5\\ngini = 0.407\\nsamples = 1138\\nvalue = [814, 324]\\nclass = did not churn'),\n",
       " Text(45.3375, 47.565, 'gini = 0.486\\nsamples = 480\\nvalue = [280, 200]\\nclass = did not churn'),\n",
       " Text(136.0125, 47.565, 'gini = 0.306\\nsamples = 658\\nvalue = [534, 124]\\nclass = did not churn'),\n",
       " Text(272.025, 142.695, 'tenure <= 13.5\\ngini = 0.496\\nsamples = 1322\\nvalue = [604, 718]\\nclass = churned'),\n",
       " Text(226.6875, 47.565, 'gini = 0.431\\nsamples = 583\\nvalue = [183, 400]\\nclass = churned'),\n",
       " Text(317.3625, 47.565, 'gini = 0.49\\nsamples = 739\\nvalue = [421, 318]\\nclass = did not churn'),\n",
       " Text(544.05, 237.825, 'internet_service_type_Fiber optic <= 0.5\\ngini = 0.14\\nsamples = 2040\\nvalue = [1886, 154]\\nclass = did not churn'),\n",
       " Text(453.375, 142.695, 'contract_type_One year <= 0.5\\ngini = 0.075\\nsamples = 1389\\nvalue = [1335, 54]\\nclass = did not churn'),\n",
       " Text(408.03749999999997, 47.565, 'gini = 0.03\\nsamples = 792\\nvalue = [780, 12]\\nclass = did not churn'),\n",
       " Text(498.7125, 47.565, 'gini = 0.131\\nsamples = 597\\nvalue = [555, 42]\\nclass = did not churn'),\n",
       " Text(634.725, 142.695, 'contract_type_One year <= 0.5\\ngini = 0.26\\nsamples = 651\\nvalue = [551, 100]\\nclass = did not churn'),\n",
       " Text(589.3874999999999, 47.565, 'gini = 0.126\\nsamples = 281\\nvalue = [262, 19]\\nclass = did not churn'),\n",
       " Text(680.0625, 47.565, 'gini = 0.342\\nsamples = 370\\nvalue = [289, 81]\\nclass = did not churn')]"
      ]
     },
     "execution_count": 25,
     "metadata": {},
     "output_type": "execute_result"
    },
    {
     "data": {
      "image/png": "[encoded data removed]",
      "text/plain": [
       "<Figure size 936x504 with 1 Axes>"
      ]
     },
     "metadata": {
      "needs_background": "light"
     },
     "output_type": "display_data"
    }
   ],
   "source": [
    "churned = np.array(['did not churn', 'churned'])\n",
    "\n",
    "plt.figure(figsize = (13,7))\n",
    "plot_tree(clf, feature_names = X_train.columns, class_names = churned, rounded = True)"
   ]
  },
  {
   "cell_type": "code",
   "execution_count": 26,
   "id": "60f26223",
   "metadata": {},
   "outputs": [
    {
     "data": {
      "text/plain": [
       "array(['No', 'No', 'No', 'No', 'No'], dtype=object)"
      ]
     },
     "execution_count": 26,
     "metadata": {},
     "output_type": "execute_result"
    }
   ],
   "source": [
    "# making predictions on the observations:\n",
    "\n",
    "y_pred = clf.predict(X_train)\n",
    "y_pred[0:5]"
   ]
  },
  {
   "cell_type": "code",
   "execution_count": 27,
   "id": "6b82a72d",
   "metadata": {},
   "outputs": [
    {
     "data": {
      "text/html": [
       "<div>\n",
       "<style scoped>\n",
       "    .dataframe tbody tr th:only-of-type {\n",
       "        vertical-align: middle;\n",
       "    }\n",
       "\n",
       "    .dataframe tbody tr th {\n",
       "        vertical-align: top;\n",
       "    }\n",
       "\n",
       "    .dataframe thead th {\n",
       "        text-align: right;\n",
       "    }\n",
       "</style>\n",
       "<table border=\"1\" class=\"dataframe\">\n",
       "  <thead>\n",
       "    <tr style=\"text-align: right;\">\n",
       "      <th></th>\n",
       "      <th>0</th>\n",
       "      <th>1</th>\n",
       "    </tr>\n",
       "  </thead>\n",
       "  <tbody>\n",
       "    <tr>\n",
       "      <th>0</th>\n",
       "      <td>3121</td>\n",
       "      <td>183</td>\n",
       "    </tr>\n",
       "    <tr>\n",
       "      <th>1</th>\n",
       "      <td>796</td>\n",
       "      <td>400</td>\n",
       "    </tr>\n",
       "  </tbody>\n",
       "</table>\n",
       "</div>"
      ],
      "text/plain": [
       "      0    1\n",
       "0  3121  183\n",
       "1   796  400"
      ]
     },
     "execution_count": 27,
     "metadata": {},
     "output_type": "execute_result"
    }
   ],
   "source": [
    "pd.DataFrame(confusion_matrix(y_train, y_pred))"
   ]
  },
  {
   "cell_type": "code",
   "execution_count": 28,
   "id": "ca72c6db",
   "metadata": {},
   "outputs": [
    {
     "data": {
      "text/plain": [
       "(3121, 183, 796, 400)"
      ]
     },
     "execution_count": 28,
     "metadata": {},
     "output_type": "execute_result"
    }
   ],
   "source": [
    "#Defining true/false positive and true/false negative:\n",
    "\n",
    "tn, fp, fn, tp = confusion_matrix(y_train, y_pred).ravel()\n",
    "\n",
    "tn, fp, fn, tp"
   ]
  },
  {
   "cell_type": "code",
   "execution_count": 29,
   "id": "f06f2d13",
   "metadata": {},
   "outputs": [
    {
     "data": {
      "text/plain": [
       "0.7824444444444445"
      ]
     },
     "execution_count": 29,
     "metadata": {},
     "output_type": "execute_result"
    }
   ],
   "source": [
    "#Accuracy:\n",
    "\n",
    "accuracy = accuracy_score(y_train, y_pred)\n",
    "accuracy\n",
    "\n",
    "#It appears that the decision tree model is slightly better than the baseline predictor."
   ]
  },
  {
   "cell_type": "code",
   "execution_count": 30,
   "id": "8d5f25c3",
   "metadata": {},
   "outputs": [
    {
     "name": "stdout",
     "output_type": "stream",
     "text": [
      "Tree with max depth of 2\n",
      "                    No          Yes  accuracy    macro avg  weighted avg\n",
      "precision     0.849591     0.543116  0.759556     0.696354      0.768137\n",
      "recall        0.817191     0.600334  0.759556     0.708763      0.759556\n",
      "f1-score      0.833076     0.570294  0.759556     0.701685      0.763235\n",
      "support    3304.000000  1196.000000  0.759556  4500.000000   4500.000000\n",
      "\n",
      "Tree with max depth of 3\n",
      "                    No          Yes  accuracy    macro avg  weighted avg\n",
      "precision     0.796783     0.686106  0.782444     0.741445      0.767368\n",
      "recall        0.944613     0.334448  0.782444     0.639530      0.782444\n",
      "f1-score      0.864423     0.449691  0.782444     0.657057      0.754197\n",
      "support    3304.000000  1196.000000  0.782444  4500.000000   4500.000000\n",
      "\n",
      "Tree with max depth of 4\n",
      "                    No          Yes  accuracy    macro avg  weighted avg\n",
      "precision     0.821853     0.623729  0.782889     0.722791      0.769196\n",
      "recall        0.899213     0.461538  0.782889     0.680376      0.782889\n",
      "f1-score      0.858795     0.530514  0.782889     0.694654      0.771545\n",
      "support    3304.000000  1196.000000  0.782889  4500.000000   4500.000000\n",
      "\n",
      "Tree with max depth of 5\n",
      "                    No          Yes  accuracy    macro avg  weighted avg\n",
      "precision     0.829687     0.653543  0.794889     0.741615      0.782872\n",
      "recall        0.906780     0.485786  0.794889     0.696283      0.794889\n",
      "f1-score      0.866522     0.557314  0.794889     0.711918      0.784341\n",
      "support    3304.000000  1196.000000  0.794889  4500.000000   4500.000000\n",
      "\n",
      "Tree with max depth of 6\n",
      "                    No          Yes  accuracy    macro avg  weighted avg\n",
      "precision     0.851120     0.644675  0.802444     0.747897      0.796251\n",
      "recall        0.885896     0.571906  0.802444     0.728901      0.802444\n",
      "f1-score      0.868160     0.606114  0.802444     0.737137      0.798514\n",
      "support    3304.000000  1196.000000  0.802444  4500.000000   4500.000000\n",
      "\n",
      "Tree with max depth of 7\n",
      "                    No          Yes  accuracy    macro avg  weighted avg\n",
      "precision     0.848966     0.682801  0.813111     0.765883      0.804803\n",
      "recall        0.906780     0.554348  0.813111     0.730564      0.813111\n",
      "f1-score      0.876921     0.611906  0.813111     0.744413      0.806486\n",
      "support    3304.000000  1196.000000  0.813111  4500.000000   4500.000000\n",
      "\n",
      "Tree with max depth of 8\n",
      "                    No          Yes  accuracy    macro avg  weighted avg\n",
      "precision     0.864028     0.712032  0.829778     0.788030      0.823630\n",
      "recall        0.911622     0.603679  0.829778     0.757651      0.829778\n",
      "f1-score      0.887187     0.653394  0.829778     0.770290      0.825050\n",
      "support    3304.000000  1196.000000  0.829778  4500.000000   4500.000000\n",
      "\n",
      "Tree with max depth of 9\n",
      "                    No          Yes  accuracy    macro avg  weighted avg\n",
      "precision     0.884785     0.737374  0.849111     0.811079      0.845606\n",
      "recall        0.913438     0.671405  0.849111     0.792421      0.849111\n",
      "f1-score      0.898883     0.702845  0.849111     0.800864      0.846780\n",
      "support    3304.000000  1196.000000  0.849111  4500.000000   4500.000000\n",
      "\n",
      "Tree with max depth of 10\n",
      "                    No          Yes  accuracy    macro avg  weighted avg\n",
      "precision     0.899824     0.780109  0.870667     0.839967      0.868006\n",
      "recall        0.927058     0.714883  0.870667     0.820971      0.870667\n",
      "f1-score      0.913238     0.746073  0.870667     0.829656      0.868809\n",
      "support    3304.000000  1196.000000  0.870667  4500.000000   4500.000000\n",
      "\n",
      "Tree with max depth of 11\n",
      "                    No          Yes  accuracy    macro avg  weighted avg\n",
      "precision     0.914294     0.827081  0.893111     0.870688      0.891115\n",
      "recall        0.942797     0.755853  0.893111     0.849325      0.893111\n",
      "f1-score      0.928327     0.789865  0.893111     0.859096      0.891526\n",
      "support    3304.000000  1196.000000  0.893111  4500.000000   4500.000000\n",
      "\n",
      "Tree with max depth of 12\n",
      "                    No          Yes  accuracy    macro avg  weighted avg\n",
      "precision     0.940609     0.844463  0.915333     0.892536      0.915056\n",
      "recall        0.944310     0.835284  0.915333     0.889797      0.915333\n",
      "f1-score      0.942456     0.839849  0.915333     0.891152      0.915185\n",
      "support    3304.000000  1196.000000  0.915333  4500.000000   4500.000000\n",
      "\n",
      "Tree with max depth of 13\n",
      "                    No          Yes  accuracy    macro avg  weighted avg\n",
      "precision     0.950045     0.889369  0.934444     0.919707      0.933919\n",
      "recall        0.961259     0.860368  0.934444     0.910813      0.934444\n",
      "f1-score      0.955619     0.874628  0.934444     0.915124      0.934093\n",
      "support    3304.000000  1196.000000  0.934444  4500.000000   4500.000000\n",
      "\n",
      "Tree with max depth of 14\n",
      "                    No          Yes  accuracy    macro avg  weighted avg\n",
      "precision     0.964944     0.906801  0.949556     0.935873      0.949491\n",
      "recall        0.966404     0.903010  0.949556     0.934707      0.949556\n",
      "f1-score      0.965674     0.904902  0.949556     0.935288      0.949522\n",
      "support    3304.000000  1196.000000  0.949556  4500.000000   4500.000000\n",
      "\n",
      "Tree with max depth of 15\n",
      "                    No          Yes  accuracy    macro avg  weighted avg\n",
      "precision     0.971954     0.931588  0.961333     0.951771      0.961226\n",
      "recall        0.975484     0.922241  0.961333     0.948863      0.961333\n",
      "f1-score      0.973716     0.926891  0.961333     0.950303      0.961271\n",
      "support    3304.000000  1196.000000  0.961333  4500.000000   4500.000000\n",
      "\n",
      "Tree with max depth of 16\n",
      "                    No          Yes  accuracy    macro avg  weighted avg\n",
      "precision     0.978576     0.948567  0.970667     0.963571      0.970600\n",
      "recall        0.981538     0.940635  0.970667     0.961086      0.970667\n",
      "f1-score      0.980054     0.944584  0.970667     0.962319      0.970627\n",
      "support    3304.000000  1196.000000  0.970667  4500.000000   4500.000000\n",
      "\n",
      "Tree with max depth of 17\n",
      "                    No          Yes  accuracy    macro avg  weighted avg\n",
      "precision     0.975283     0.974606  0.975111     0.974944      0.975103\n",
      "recall        0.991223     0.930602  0.975111     0.960912      0.975111\n",
      "f1-score      0.983188     0.952096  0.975111     0.967642      0.974925\n",
      "support    3304.000000  1196.000000  0.975111  4500.000000   4500.000000\n",
      "\n",
      "Tree with max depth of 18\n",
      "                    No          Yes  accuracy    macro avg  weighted avg\n",
      "precision     0.982004     0.974271      0.98     0.978137      0.979948\n",
      "recall        0.990920     0.949833      0.98     0.970376      0.980000\n",
      "f1-score      0.986442     0.961897      0.98     0.974169      0.979918\n",
      "support    3304.000000  1196.000000      0.98  4500.000000   4500.000000\n",
      "\n",
      "Tree with max depth of 19\n",
      "                    No          Yes  accuracy    macro avg  weighted avg\n",
      "precision     0.982036     0.979310  0.981333     0.980673      0.981312\n",
      "recall        0.992736     0.949833  0.981333     0.971284      0.981333\n",
      "f1-score      0.987357     0.964346  0.981333     0.975852      0.981241\n",
      "support    3304.000000  1196.000000  0.981333  4500.000000   4500.000000\n",
      "\n",
      "Tree with max depth of 20\n",
      "                    No          Yes  accuracy    macro avg  weighted avg\n",
      "precision     0.983218     0.980224  0.982444     0.981721      0.982422\n",
      "recall        0.993039     0.953177  0.982444     0.973108      0.982444\n",
      "f1-score      0.988104     0.966511  0.982444     0.977308      0.982365\n",
      "support    3304.000000  1196.000000  0.982444  4500.000000   4500.000000\n",
      "\n"
     ]
    }
   ],
   "source": [
    "#Finding the optimal hyperparameters for the decision tree:\n",
    "\n",
    "for i in range(2, 21):\n",
    "    # Make the model\n",
    "    tree = DecisionTreeClassifier(max_depth=i, random_state=123)\n",
    "\n",
    "    # Fit the model (on train and only train)\n",
    "    tree = tree.fit(X_train, y_train)\n",
    "\n",
    "    # Use the model\n",
    "    # We'll evaluate the model's performance on train, first\n",
    "    y_predictions = tree.predict(X_train)\n",
    "\n",
    "    # Produce the classification report on the actual y values and this model's predicted y values\n",
    "    report = classification_report(y_train, y_predictions, output_dict=True)\n",
    "    print(f\"Tree with max depth of {i}\")\n",
    "    print(pd.DataFrame(report))\n",
    "    print()"
   ]
  },
  {
   "cell_type": "code",
   "execution_count": 31,
   "id": "a48fe1a1",
   "metadata": {},
   "outputs": [
    {
     "data": {
      "text/html": [
       "<div>\n",
       "<style scoped>\n",
       "    .dataframe tbody tr th:only-of-type {\n",
       "        vertical-align: middle;\n",
       "    }\n",
       "\n",
       "    .dataframe tbody tr th {\n",
       "        vertical-align: top;\n",
       "    }\n",
       "\n",
       "    .dataframe thead th {\n",
       "        text-align: right;\n",
       "    }\n",
       "</style>\n",
       "<table border=\"1\" class=\"dataframe\">\n",
       "  <thead>\n",
       "    <tr style=\"text-align: right;\">\n",
       "      <th></th>\n",
       "      <th>max_depth</th>\n",
       "      <th>train_accuracy</th>\n",
       "      <th>validate_accuracy</th>\n",
       "      <th>difference</th>\n",
       "    </tr>\n",
       "  </thead>\n",
       "  <tbody>\n",
       "    <tr>\n",
       "      <th>2</th>\n",
       "      <td>4</td>\n",
       "      <td>0.782889</td>\n",
       "      <td>0.805333</td>\n",
       "      <td>-0.022444</td>\n",
       "    </tr>\n",
       "    <tr>\n",
       "      <th>1</th>\n",
       "      <td>3</td>\n",
       "      <td>0.782444</td>\n",
       "      <td>0.795556</td>\n",
       "      <td>-0.013111</td>\n",
       "    </tr>\n",
       "    <tr>\n",
       "      <th>5</th>\n",
       "      <td>7</td>\n",
       "      <td>0.813111</td>\n",
       "      <td>0.795556</td>\n",
       "      <td>0.017556</td>\n",
       "    </tr>\n",
       "    <tr>\n",
       "      <th>6</th>\n",
       "      <td>8</td>\n",
       "      <td>0.829778</td>\n",
       "      <td>0.791111</td>\n",
       "      <td>0.038667</td>\n",
       "    </tr>\n",
       "    <tr>\n",
       "      <th>4</th>\n",
       "      <td>6</td>\n",
       "      <td>0.802444</td>\n",
       "      <td>0.790222</td>\n",
       "      <td>0.012222</td>\n",
       "    </tr>\n",
       "    <tr>\n",
       "      <th>3</th>\n",
       "      <td>5</td>\n",
       "      <td>0.794889</td>\n",
       "      <td>0.788444</td>\n",
       "      <td>0.006444</td>\n",
       "    </tr>\n",
       "    <tr>\n",
       "      <th>7</th>\n",
       "      <td>9</td>\n",
       "      <td>0.849111</td>\n",
       "      <td>0.775111</td>\n",
       "      <td>0.074000</td>\n",
       "    </tr>\n",
       "    <tr>\n",
       "      <th>8</th>\n",
       "      <td>10</td>\n",
       "      <td>0.870667</td>\n",
       "      <td>0.773333</td>\n",
       "      <td>0.097333</td>\n",
       "    </tr>\n",
       "    <tr>\n",
       "      <th>0</th>\n",
       "      <td>2</td>\n",
       "      <td>0.759556</td>\n",
       "      <td>0.766222</td>\n",
       "      <td>-0.006667</td>\n",
       "    </tr>\n",
       "  </tbody>\n",
       "</table>\n",
       "</div>"
      ],
      "text/plain": [
       "   max_depth  train_accuracy  validate_accuracy  difference\n",
       "2          4        0.782889           0.805333   -0.022444\n",
       "1          3        0.782444           0.795556   -0.013111\n",
       "5          7        0.813111           0.795556    0.017556\n",
       "6          8        0.829778           0.791111    0.038667\n",
       "4          6        0.802444           0.790222    0.012222\n",
       "3          5        0.794889           0.788444    0.006444\n",
       "7          9        0.849111           0.775111    0.074000\n",
       "8         10        0.870667           0.773333    0.097333\n",
       "0          2        0.759556           0.766222   -0.006667"
      ]
     },
     "execution_count": 31,
     "metadata": {},
     "output_type": "execute_result"
    }
   ],
   "source": [
    "# Comparing in-sample to out-of-sample values:\n",
    "dt_metrics = []\n",
    "\n",
    "for i in range(2, 25):\n",
    "    # Make the model\n",
    "    tree = DecisionTreeClassifier(max_depth=i, random_state=123)\n",
    "\n",
    "    # Fit the model (on train and only train)\n",
    "    tree = tree.fit(X_train, y_train)\n",
    "\n",
    "    # Use the model\n",
    "    # We'll evaluate the model's performance on train, first\n",
    "    in_sample_accuracy = tree.score(X_train, y_train)\n",
    "    \n",
    "    out_of_sample_accuracy = tree.score(X_validate, y_validate)\n",
    "\n",
    "    output = {\n",
    "        \"max_depth\": i,\n",
    "        \"train_accuracy\": in_sample_accuracy,\n",
    "        \"validate_accuracy\": out_of_sample_accuracy\n",
    "    }\n",
    "    \n",
    "    dt_metrics.append(output)\n",
    "    \n",
    "decision_tree_metrics = pd.DataFrame(dt_metrics)\n",
    "decision_tree_metrics[\"difference\"] = decision_tree_metrics.train_accuracy - decision_tree_metrics.validate_accuracy\n",
    "decision_tree_metrics[decision_tree_metrics.difference <= 0.10].sort_values(by=['validate_accuracy', 'difference'], ascending = [False,True])\n",
    "\n",
    "# It appears that the highest-accuracy decison tree model on the training set has a max depth of 4."
   ]
  },
  {
   "cell_type": "code",
   "execution_count": 32,
   "id": "4dd432e4",
   "metadata": {},
   "outputs": [],
   "source": [
    "#Graphing that model:\n",
    "#Creating the model object and fitting it to the training set:\n",
    "clf = DecisionTreeClassifier(max_depth = 4, random_state = 123)\n",
    "clf = clf.fit(X_train, y_train)"
   ]
  },
  {
   "cell_type": "code",
   "execution_count": 33,
   "id": "c669a40c",
   "metadata": {},
   "outputs": [
    {
     "data": {
      "text/plain": [
       "[Text(362.7, 342.46799999999996, 'contract_type_id.1 <= 1.5\\ngini = 0.39\\nsamples = 4500\\nvalue = [3304, 1196]\\nclass = did not churn'),\n",
       " Text(181.35, 266.364, 'internet_service_type_Fiber optic <= 0.5\\ngini = 0.488\\nsamples = 2460\\nvalue = [1418, 1042]\\nclass = did not churn'),\n",
       " Text(90.675, 190.26, 'tenure <= 5.5\\ngini = 0.407\\nsamples = 1138\\nvalue = [814, 324]\\nclass = did not churn'),\n",
       " Text(45.3375, 114.156, 'streaming_tv_No internet service <= 0.5\\ngini = 0.486\\nsamples = 480\\nvalue = [280, 200]\\nclass = did not churn'),\n",
       " Text(22.66875, 38.051999999999964, 'gini = 0.5\\nsamples = 302\\nvalue = [150, 152]\\nclass = churned'),\n",
       " Text(68.00625, 38.051999999999964, 'gini = 0.394\\nsamples = 178\\nvalue = [130, 48]\\nclass = did not churn'),\n",
       " Text(136.0125, 114.156, 'phone_service_Yes <= 0.5\\ngini = 0.306\\nsamples = 658\\nvalue = [534, 124]\\nclass = did not churn'),\n",
       " Text(113.34375, 38.051999999999964, 'gini = 0.423\\nsamples = 158\\nvalue = [110, 48]\\nclass = did not churn'),\n",
       " Text(158.68125, 38.051999999999964, 'gini = 0.258\\nsamples = 500\\nvalue = [424, 76]\\nclass = did not churn'),\n",
       " Text(272.025, 190.26, 'tenure <= 13.5\\ngini = 0.496\\nsamples = 1322\\nvalue = [604, 718]\\nclass = churned'),\n",
       " Text(226.6875, 114.156, 'tenure <= 1.5\\ngini = 0.431\\nsamples = 583\\nvalue = [183, 400]\\nclass = churned'),\n",
       " Text(204.01874999999998, 38.051999999999964, 'gini = 0.253\\nsamples = 148\\nvalue = [22, 126]\\nclass = churned'),\n",
       " Text(249.35625, 38.051999999999964, 'gini = 0.466\\nsamples = 435\\nvalue = [161, 274]\\nclass = churned'),\n",
       " Text(317.3625, 114.156, 'tenure <= 51.5\\ngini = 0.49\\nsamples = 739\\nvalue = [421, 318]\\nclass = did not churn'),\n",
       " Text(294.69374999999997, 38.051999999999964, 'gini = 0.498\\nsamples = 595\\nvalue = [315, 280]\\nclass = did not churn'),\n",
       " Text(340.03125, 38.051999999999964, 'gini = 0.389\\nsamples = 144\\nvalue = [106, 38]\\nclass = did not churn'),\n",
       " Text(544.05, 266.364, 'internet_service_type_Fiber optic <= 0.5\\ngini = 0.14\\nsamples = 2040\\nvalue = [1886, 154]\\nclass = did not churn'),\n",
       " Text(453.375, 190.26, 'contract_type_id.1 <= 2.5\\ngini = 0.075\\nsamples = 1389\\nvalue = [1335, 54]\\nclass = did not churn'),\n",
       " Text(408.03749999999997, 114.156, 'streaming_movies_Yes <= 0.5\\ngini = 0.131\\nsamples = 597\\nvalue = [555, 42]\\nclass = did not churn'),\n",
       " Text(385.36875, 38.051999999999964, 'gini = 0.076\\nsamples = 432\\nvalue = [415, 17]\\nclass = did not churn'),\n",
       " Text(430.70625, 38.051999999999964, 'gini = 0.257\\nsamples = 165\\nvalue = [140, 25]\\nclass = did not churn'),\n",
       " Text(498.7125, 114.156, 'payment_type_id.1 <= 1.5\\ngini = 0.03\\nsamples = 792\\nvalue = [780, 12]\\nclass = did not churn'),\n",
       " Text(476.04375, 38.051999999999964, 'gini = 0.156\\nsamples = 47\\nvalue = [43, 4]\\nclass = did not churn'),\n",
       " Text(521.38125, 38.051999999999964, 'gini = 0.021\\nsamples = 745\\nvalue = [737, 8]\\nclass = did not churn'),\n",
       " Text(634.725, 190.26, 'contract_type_Two year <= 0.5\\ngini = 0.26\\nsamples = 651\\nvalue = [551, 100]\\nclass = did not churn'),\n",
       " Text(589.3874999999999, 114.156, 'streaming_movies_Yes <= 0.5\\ngini = 0.342\\nsamples = 370\\nvalue = [289, 81]\\nclass = did not churn'),\n",
       " Text(566.71875, 38.051999999999964, 'gini = 0.177\\nsamples = 92\\nvalue = [83, 9]\\nclass = did not churn'),\n",
       " Text(612.05625, 38.051999999999964, 'gini = 0.384\\nsamples = 278\\nvalue = [206, 72]\\nclass = did not churn'),\n",
       " Text(680.0625, 114.156, 'tenure <= 61.5\\ngini = 0.126\\nsamples = 281\\nvalue = [262, 19]\\nclass = did not churn'),\n",
       " Text(657.39375, 38.051999999999964, 'gini = 0.257\\nsamples = 66\\nvalue = [56, 10]\\nclass = did not churn'),\n",
       " Text(702.7312499999999, 38.051999999999964, 'gini = 0.08\\nsamples = 215\\nvalue = [206, 9]\\nclass = did not churn')]"
      ]
     },
     "execution_count": 33,
     "metadata": {},
     "output_type": "execute_result"
    },
    {
     "data": {
      "image/png": "[encoded data removed]",
      "text/plain": [
       "<Figure size 936x504 with 1 Axes>"
      ]
     },
     "metadata": {
      "needs_background": "light"
     },
     "output_type": "display_data"
    }
   ],
   "source": [
    "churned = np.array(['did not churn', 'churned'])\n",
    "\n",
    "plt.figure(figsize = (13,7))\n",
    "plot_tree(clf, feature_names = X_train.columns, class_names = churned, rounded = True)\n",
    "\n",
    "#This isn't really visible at all."
   ]
  },
  {
   "cell_type": "markdown",
   "id": "ba40e9dd",
   "metadata": {},
   "source": [
    "# Random Forest Exercises:"
   ]
  },
  {
   "cell_type": "code",
   "execution_count": 34,
   "id": "4ebffaa9",
   "metadata": {},
   "outputs": [
    {
     "name": "stdout",
     "output_type": "stream",
     "text": [
      "Tree with max depth of 2\n",
      "                    No     Yes  accuracy    macro avg  weighted avg\n",
      "precision     0.734222     0.0  0.734222     0.367111      0.539082\n",
      "recall        1.000000     0.0  0.734222     0.500000      0.734222\n",
      "f1-score      0.846745     0.0  0.734222     0.423373      0.621699\n",
      "support    3304.000000  1196.0  0.734222  4500.000000   4500.000000\n",
      "\n",
      "Tree with max depth of 3\n",
      "                    No          Yes  accuracy    macro avg  weighted avg\n",
      "precision     0.777184     0.731579  0.773333     0.754382      0.765064\n",
      "recall        0.969128     0.232441  0.773333     0.600785      0.773333\n",
      "f1-score      0.862608     0.352792  0.773333     0.607700      0.727110\n",
      "support    3304.000000  1196.000000  0.773333  4500.000000   4500.000000\n",
      "\n",
      "Tree with max depth of 4\n",
      "                    No          Yes  accuracy    macro avg  weighted avg\n",
      "precision     0.795495     0.706740  0.784667     0.751117      0.771906\n",
      "recall        0.951271     0.324415  0.784667     0.637843      0.784667\n",
      "f1-score      0.866437     0.444699  0.784667     0.655568      0.754348\n",
      "support    3304.000000  1196.000000  0.784667  4500.000000   4500.000000\n",
      "\n",
      "Tree with max depth of 5\n",
      "                    No          Yes  accuracy    macro avg  weighted avg\n",
      "precision     0.814854     0.701280  0.797111     0.758067      0.784668\n",
      "recall        0.936441     0.412207  0.797111     0.674324      0.797111\n",
      "f1-score      0.871427     0.519221  0.797111     0.695324      0.777818\n",
      "support    3304.000000  1196.000000  0.797111  4500.000000   4500.000000\n",
      "\n",
      "Tree with max depth of 6\n",
      "                    No          Yes  accuracy    macro avg  weighted avg\n",
      "precision     0.825324     0.689698  0.801333     0.757511      0.789278\n",
      "recall        0.925242     0.459030  0.801333     0.692136      0.801333\n",
      "f1-score      0.872432     0.551205  0.801333     0.711818      0.787057\n",
      "support    3304.000000  1196.000000  0.801333  4500.000000   4500.000000\n",
      "\n",
      "Tree with max depth of 7\n",
      "                    No          Yes  accuracy    macro avg  weighted avg\n",
      "precision     0.834521     0.696471  0.808444     0.765496      0.797830\n",
      "recall        0.921913     0.494983  0.808444     0.708448      0.808444\n",
      "f1-score      0.876043     0.578690  0.808444     0.727366      0.797013\n",
      "support    3304.000000  1196.000000  0.808444  4500.000000   4500.000000\n",
      "\n",
      "Tree with max depth of 8\n",
      "                    No          Yes  accuracy    macro avg  weighted avg\n",
      "precision     0.844052     0.719498  0.819778     0.781775      0.810948\n",
      "recall        0.925545     0.527592  0.819778     0.726568      0.819778\n",
      "f1-score      0.882922     0.608780  0.819778     0.745851      0.810061\n",
      "support    3304.000000  1196.000000  0.819778  4500.000000   4500.000000\n",
      "\n",
      "Tree with max depth of 9\n",
      "                    No          Yes  accuracy    macro avg  weighted avg\n",
      "precision     0.857742     0.745119  0.834667     0.801431      0.827809\n",
      "recall        0.928874     0.574415  0.834667     0.751644      0.834667\n",
      "f1-score      0.891892     0.648725  0.834667     0.770309      0.827264\n",
      "support    3304.000000  1196.000000  0.834667  4500.000000   4500.000000\n",
      "\n",
      "Tree with max depth of 10\n",
      "                    No          Yes  accuracy    macro avg  weighted avg\n",
      "precision     0.883913     0.793763     0.864     0.838838      0.859953\n",
      "recall        0.937954     0.659699     0.864     0.798826      0.864000\n",
      "f1-score      0.910132     0.720548     0.864     0.815340      0.859745\n",
      "support    3304.000000  1196.000000     0.864  4500.000000   4500.000000\n",
      "\n"
     ]
    }
   ],
   "source": [
    "for i in range(2, 11):\n",
    "    # Make the model\n",
    "    forest = RandomForestClassifier(max_depth=i, random_state=123)\n",
    "\n",
    "    # Fit the model (on train and only train)\n",
    "    forest = forest.fit(X_train, y_train)\n",
    "\n",
    "    # Use the model\n",
    "    # We'll evaluate the model's performance on train, first\n",
    "    y_predictions = forest.predict(X_train)\n",
    "\n",
    "    # Produce the classification report on the actual y values and this model's predicted y values\n",
    "    rf_report = classification_report(y_train, y_predictions, output_dict=True)\n",
    "    print(f\"Tree with max depth of {i}\")\n",
    "    print(pd.DataFrame(rf_report))\n",
    "    print()"
   ]
  },
  {
   "cell_type": "code",
   "execution_count": 35,
   "id": "38dc4acd",
   "metadata": {},
   "outputs": [
    {
     "data": {
      "text/html": [
       "<div>\n",
       "<style scoped>\n",
       "    .dataframe tbody tr th:only-of-type {\n",
       "        vertical-align: middle;\n",
       "    }\n",
       "\n",
       "    .dataframe tbody tr th {\n",
       "        vertical-align: top;\n",
       "    }\n",
       "\n",
       "    .dataframe thead th {\n",
       "        text-align: right;\n",
       "    }\n",
       "</style>\n",
       "<table border=\"1\" class=\"dataframe\">\n",
       "  <thead>\n",
       "    <tr style=\"text-align: right;\">\n",
       "      <th></th>\n",
       "      <th>min_samples_per_leaf</th>\n",
       "      <th>max_depth</th>\n",
       "      <th>train_accuracy</th>\n",
       "      <th>validate_accuracy</th>\n",
       "      <th>difference</th>\n",
       "    </tr>\n",
       "  </thead>\n",
       "  <tbody>\n",
       "    <tr>\n",
       "      <th>8</th>\n",
       "      <td>10</td>\n",
       "      <td>10</td>\n",
       "      <td>0.813556</td>\n",
       "      <td>0.815111</td>\n",
       "      <td>-0.001556</td>\n",
       "    </tr>\n",
       "    <tr>\n",
       "      <th>7</th>\n",
       "      <td>9</td>\n",
       "      <td>11</td>\n",
       "      <td>0.821333</td>\n",
       "      <td>0.813333</td>\n",
       "      <td>0.008000</td>\n",
       "    </tr>\n",
       "    <tr>\n",
       "      <th>11</th>\n",
       "      <td>13</td>\n",
       "      <td>7</td>\n",
       "      <td>0.805556</td>\n",
       "      <td>0.812444</td>\n",
       "      <td>-0.006889</td>\n",
       "    </tr>\n",
       "    <tr>\n",
       "      <th>10</th>\n",
       "      <td>12</td>\n",
       "      <td>8</td>\n",
       "      <td>0.807556</td>\n",
       "      <td>0.812444</td>\n",
       "      <td>-0.004889</td>\n",
       "    </tr>\n",
       "    <tr>\n",
       "      <th>9</th>\n",
       "      <td>11</td>\n",
       "      <td>9</td>\n",
       "      <td>0.811778</td>\n",
       "      <td>0.812444</td>\n",
       "      <td>-0.000667</td>\n",
       "    </tr>\n",
       "    <tr>\n",
       "      <th>6</th>\n",
       "      <td>8</td>\n",
       "      <td>12</td>\n",
       "      <td>0.825111</td>\n",
       "      <td>0.812444</td>\n",
       "      <td>0.012667</td>\n",
       "    </tr>\n",
       "    <tr>\n",
       "      <th>3</th>\n",
       "      <td>5</td>\n",
       "      <td>15</td>\n",
       "      <td>0.838667</td>\n",
       "      <td>0.810667</td>\n",
       "      <td>0.028000</td>\n",
       "    </tr>\n",
       "    <tr>\n",
       "      <th>5</th>\n",
       "      <td>7</td>\n",
       "      <td>13</td>\n",
       "      <td>0.829333</td>\n",
       "      <td>0.808889</td>\n",
       "      <td>0.020444</td>\n",
       "    </tr>\n",
       "    <tr>\n",
       "      <th>12</th>\n",
       "      <td>14</td>\n",
       "      <td>6</td>\n",
       "      <td>0.803333</td>\n",
       "      <td>0.808000</td>\n",
       "      <td>-0.004667</td>\n",
       "    </tr>\n",
       "    <tr>\n",
       "      <th>4</th>\n",
       "      <td>6</td>\n",
       "      <td>14</td>\n",
       "      <td>0.834889</td>\n",
       "      <td>0.808000</td>\n",
       "      <td>0.026889</td>\n",
       "    </tr>\n",
       "    <tr>\n",
       "      <th>2</th>\n",
       "      <td>4</td>\n",
       "      <td>16</td>\n",
       "      <td>0.848667</td>\n",
       "      <td>0.806222</td>\n",
       "      <td>0.042444</td>\n",
       "    </tr>\n",
       "    <tr>\n",
       "      <th>1</th>\n",
       "      <td>3</td>\n",
       "      <td>17</td>\n",
       "      <td>0.864222</td>\n",
       "      <td>0.805333</td>\n",
       "      <td>0.058889</td>\n",
       "    </tr>\n",
       "    <tr>\n",
       "      <th>13</th>\n",
       "      <td>15</td>\n",
       "      <td>5</td>\n",
       "      <td>0.796889</td>\n",
       "      <td>0.803556</td>\n",
       "      <td>-0.006667</td>\n",
       "    </tr>\n",
       "    <tr>\n",
       "      <th>14</th>\n",
       "      <td>16</td>\n",
       "      <td>4</td>\n",
       "      <td>0.784667</td>\n",
       "      <td>0.792000</td>\n",
       "      <td>-0.007333</td>\n",
       "    </tr>\n",
       "    <tr>\n",
       "      <th>15</th>\n",
       "      <td>17</td>\n",
       "      <td>3</td>\n",
       "      <td>0.772889</td>\n",
       "      <td>0.774222</td>\n",
       "      <td>-0.001333</td>\n",
       "    </tr>\n",
       "    <tr>\n",
       "      <th>16</th>\n",
       "      <td>18</td>\n",
       "      <td>2</td>\n",
       "      <td>0.734222</td>\n",
       "      <td>0.734222</td>\n",
       "      <td>0.000000</td>\n",
       "    </tr>\n",
       "    <tr>\n",
       "      <th>17</th>\n",
       "      <td>19</td>\n",
       "      <td>1</td>\n",
       "      <td>0.734222</td>\n",
       "      <td>0.734222</td>\n",
       "      <td>0.000000</td>\n",
       "    </tr>\n",
       "  </tbody>\n",
       "</table>\n",
       "</div>"
      ],
      "text/plain": [
       "    min_samples_per_leaf  max_depth  train_accuracy  validate_accuracy  \\\n",
       "8                     10         10        0.813556           0.815111   \n",
       "7                      9         11        0.821333           0.813333   \n",
       "11                    13          7        0.805556           0.812444   \n",
       "10                    12          8        0.807556           0.812444   \n",
       "9                     11          9        0.811778           0.812444   \n",
       "6                      8         12        0.825111           0.812444   \n",
       "3                      5         15        0.838667           0.810667   \n",
       "5                      7         13        0.829333           0.808889   \n",
       "12                    14          6        0.803333           0.808000   \n",
       "4                      6         14        0.834889           0.808000   \n",
       "2                      4         16        0.848667           0.806222   \n",
       "1                      3         17        0.864222           0.805333   \n",
       "13                    15          5        0.796889           0.803556   \n",
       "14                    16          4        0.784667           0.792000   \n",
       "15                    17          3        0.772889           0.774222   \n",
       "16                    18          2        0.734222           0.734222   \n",
       "17                    19          1        0.734222           0.734222   \n",
       "\n",
       "    difference  \n",
       "8    -0.001556  \n",
       "7     0.008000  \n",
       "11   -0.006889  \n",
       "10   -0.004889  \n",
       "9    -0.000667  \n",
       "6     0.012667  \n",
       "3     0.028000  \n",
       "5     0.020444  \n",
       "12   -0.004667  \n",
       "4     0.026889  \n",
       "2     0.042444  \n",
       "1     0.058889  \n",
       "13   -0.006667  \n",
       "14   -0.007333  \n",
       "15   -0.001333  \n",
       "16    0.000000  \n",
       "17    0.000000  "
      ]
     },
     "execution_count": 35,
     "metadata": {},
     "output_type": "execute_result"
    }
   ],
   "source": [
    "rf_metrics = []\n",
    "max_depth = 20\n",
    "\n",
    "for i in range(2, max_depth):\n",
    "    # Make the model\n",
    "    depth = max_depth - i\n",
    "    n_samples = i\n",
    "    forest = RandomForestClassifier(max_depth=depth, min_samples_leaf=n_samples, random_state=123)\n",
    "\n",
    "    # Fit the model (on train and only train)\n",
    "    forest = forest.fit(X_train, y_train)\n",
    "\n",
    "    # Use the model\n",
    "    # We'll evaluate the model's performance on train, first\n",
    "    in_sample_accuracy = forest.score(X_train, y_train)\n",
    "    \n",
    "    out_of_sample_accuracy = forest.score(X_validate, y_validate)\n",
    "\n",
    "    output = {\n",
    "        \"min_samples_per_leaf\": n_samples,\n",
    "        \"max_depth\": depth,\n",
    "        \"train_accuracy\": in_sample_accuracy,\n",
    "        \"validate_accuracy\": out_of_sample_accuracy\n",
    "    }\n",
    "    \n",
    "    rf_metrics.append(output)\n",
    "    \n",
    "random_forest_metrics = pd.DataFrame(rf_metrics)\n",
    "random_forest_metrics[\"difference\"] = random_forest_metrics.train_accuracy - random_forest_metrics.validate_accuracy\n",
    "random_forest_metrics[random_forest_metrics.difference <= 0.10].sort_values(by=['validate_accuracy', 'difference'], ascending = [False,True])"
   ]
  },
  {
   "cell_type": "markdown",
   "id": "578d7e42",
   "metadata": {},
   "source": [
    "## Analyzing the best random forest model in more depth:"
   ]
  },
  {
   "cell_type": "code",
   "execution_count": 36,
   "id": "06e5bad4",
   "metadata": {},
   "outputs": [
    {
     "data": {
      "text/plain": [
       "RandomForestClassifier(max_depth=10, min_samples_leaf=10, random_state=123)"
      ]
     },
     "execution_count": 36,
     "metadata": {},
     "output_type": "execute_result"
    }
   ],
   "source": [
    "rf = RandomForestClassifier(max_depth = 10, min_samples_leaf = 10, random_state = 123)\n",
    "rf"
   ]
  },
  {
   "cell_type": "code",
   "execution_count": 37,
   "id": "046a73d4",
   "metadata": {},
   "outputs": [
    {
     "data": {
      "text/plain": [
       "RandomForestClassifier(max_depth=10, min_samples_leaf=10, random_state=123)"
      ]
     },
     "execution_count": 37,
     "metadata": {},
     "output_type": "execute_result"
    }
   ],
   "source": [
    "rf.fit(X_train, y_train)"
   ]
  },
  {
   "cell_type": "code",
   "execution_count": 38,
   "id": "c333c8d6",
   "metadata": {},
   "outputs": [
    {
     "data": {
      "text/plain": [
       "0.8135555555555556"
      ]
     },
     "execution_count": 38,
     "metadata": {},
     "output_type": "execute_result"
    }
   ],
   "source": [
    "rf.score(X_train, y_train)"
   ]
  },
  {
   "cell_type": "code",
   "execution_count": 39,
   "id": "51700dd6",
   "metadata": {},
   "outputs": [
    {
     "data": {
      "text/plain": [
       "0.8151111111111111"
      ]
     },
     "execution_count": 39,
     "metadata": {},
     "output_type": "execute_result"
    }
   ],
   "source": [
    "rf.score(X_validate, y_validate)"
   ]
  },
  {
   "cell_type": "code",
   "execution_count": 40,
   "id": "2f1a2a32",
   "metadata": {},
   "outputs": [
    {
     "data": {
      "text/plain": [
       "{'tenure': 0.21437839467037617,\n",
       " 'contract_type_id.1': 0.1751998862223028,\n",
       " 'payment_type_id.1': 0.045340101413797525,\n",
       " 'internet_service_type_id.1': 0.04612907120139928,\n",
       " 'gender_Male': 0.012671785382539569,\n",
       " 'senior_citizen_Yes': 0.013334705997117013,\n",
       " 'partner_Yes': 0.012569417120361739,\n",
       " 'dependents_Yes': 0.01255027619064441,\n",
       " 'phone_service_Yes': 0.004285703170135837,\n",
       " 'multiple_lines_No phone service': 0.005806318661708595,\n",
       " 'multiple_lines_Yes': 0.012212776928776077,\n",
       " 'online_security_No internet service': 0.011475163922370111,\n",
       " 'online_security_Yes': 0.035810542576244,\n",
       " 'online_backup_No internet service': 0.01765562527529768,\n",
       " 'online_backup_Yes': 0.014218252460641925,\n",
       " 'device_protection_No internet service': 0.01166593612050921,\n",
       " 'device_protection_Yes': 0.011382782023125128,\n",
       " 'tech_support_No internet service': 0.008766939838883351,\n",
       " 'tech_support_Yes': 0.028731878888091766,\n",
       " 'streaming_tv_No internet service': 0.008545254396786854,\n",
       " 'streaming_tv_Yes': 0.012231290199022296,\n",
       " 'streaming_movies_No internet service': 0.017565887734244088,\n",
       " 'streaming_movies_Yes': 0.016409792153344094,\n",
       " 'paperless_billing_Yes': 0.022170639613132967,\n",
       " 'contract_type_One year': 0.017942700332492574,\n",
       " 'contract_type_Two year': 0.06574803569635951,\n",
       " 'payment_type_Credit card (automatic)': 0.006928669953547885,\n",
       " 'payment_type_Electronic check': 0.04471408642485471,\n",
       " 'payment_type_Mailed check': 0.005303678134618477,\n",
       " 'internet_service_type_Fiber optic': 0.07516740079496197,\n",
       " 'internet_service_type_None': 0.013087006502312284}"
      ]
     },
     "execution_count": 40,
     "metadata": {},
     "output_type": "execute_result"
    }
   ],
   "source": [
    "#Creating a list of the most important features.\n",
    "feature_importance = {}\n",
    "features = X_train.columns.tolist()\n",
    "feature_importance_values = rf.feature_importances_.tolist()\n",
    "\n",
    "feature_importance = {}\n",
    "for feature in features:\n",
    "    for value in feature_importance_values:\n",
    "        feature_importance[feature] = value\n",
    "        feature_importance_values.remove(value)\n",
    "        break  \n",
    "    \n",
    "feature_importance"
   ]
  },
  {
   "cell_type": "code",
   "execution_count": 41,
   "id": "1b01f172",
   "metadata": {},
   "outputs": [
    {
     "name": "stdout",
     "output_type": "stream",
     "text": [
      "tenure 0.21437839467037617\n",
      "contract_type_id.1 0.1751998862223028\n",
      "internet_service_type_Fiber optic 0.07516740079496197\n",
      "contract_type_Two year 0.06574803569635951\n",
      "internet_service_type_id.1 0.04612907120139928\n",
      "payment_type_id.1 0.045340101413797525\n",
      "payment_type_Electronic check 0.04471408642485471\n",
      "online_security_Yes 0.035810542576244\n",
      "tech_support_Yes 0.028731878888091766\n",
      "paperless_billing_Yes 0.022170639613132967\n",
      "contract_type_One year 0.017942700332492574\n",
      "online_backup_No internet service 0.01765562527529768\n",
      "streaming_movies_No internet service 0.017565887734244088\n",
      "streaming_movies_Yes 0.016409792153344094\n",
      "online_backup_Yes 0.014218252460641925\n",
      "senior_citizen_Yes 0.013334705997117013\n",
      "internet_service_type_None 0.013087006502312284\n",
      "gender_Male 0.012671785382539569\n",
      "partner_Yes 0.012569417120361739\n",
      "dependents_Yes 0.01255027619064441\n",
      "streaming_tv_Yes 0.012231290199022296\n",
      "multiple_lines_Yes 0.012212776928776077\n",
      "device_protection_No internet service 0.01166593612050921\n",
      "online_security_No internet service 0.011475163922370111\n",
      "device_protection_Yes 0.011382782023125128\n",
      "tech_support_No internet service 0.008766939838883351\n",
      "streaming_tv_No internet service 0.008545254396786854\n",
      "payment_type_Credit card (automatic) 0.006928669953547885\n",
      "multiple_lines_No phone service 0.005806318661708595\n",
      "payment_type_Mailed check 0.005303678134618477\n",
      "phone_service_Yes 0.004285703170135837\n"
     ]
    }
   ],
   "source": [
    "#Creating a sorted list of most important features in this model:\n",
    "sort_features = sorted(feature_importance.items(), key=lambda x: x[1], reverse=True)\n",
    "\n",
    "for i in sort_features:\n",
    "    print(i[0], i[1])"
   ]
  },
  {
   "cell_type": "markdown",
   "id": "41a7f7ce",
   "metadata": {},
   "source": [
    "# KNN Model"
   ]
  },
  {
   "cell_type": "code",
   "execution_count": 42,
   "id": "628d060e",
   "metadata": {},
   "outputs": [
    {
     "data": {
      "text/plain": [
       "KNeighborsClassifier()"
      ]
     },
     "execution_count": 42,
     "metadata": {},
     "output_type": "execute_result"
    }
   ],
   "source": [
    "#Creating the (empty) model object:\n",
    "knn = KNeighborsClassifier(n_neighbors=5, weights='uniform')\n",
    "\n",
    "#Fitting the model to training data:\n",
    "knn.fit(X_train, y_train)"
   ]
  },
  {
   "cell_type": "code",
   "execution_count": 43,
   "id": "9bef3c9f",
   "metadata": {},
   "outputs": [
    {
     "data": {
      "text/plain": [
       "array(['Yes', 'Yes', 'No', ..., 'No', 'No', 'Yes'], dtype=object)"
      ]
     },
     "execution_count": 43,
     "metadata": {},
     "output_type": "execute_result"
    }
   ],
   "source": [
    "#Classifying each customer by whether they are expected to churn:\n",
    "y_pred = knn.predict(X_train)\n",
    "y_pred"
   ]
  },
  {
   "cell_type": "code",
   "execution_count": 44,
   "id": "c6e7df6c",
   "metadata": {},
   "outputs": [
    {
     "data": {
      "text/plain": [
       "array([[0.4, 0.6],\n",
       "       [0.4, 0.6],\n",
       "       [1. , 0. ],\n",
       "       ...,\n",
       "       [0.6, 0.4],\n",
       "       [1. , 0. ],\n",
       "       [0.4, 0.6]])"
      ]
     },
     "execution_count": 44,
     "metadata": {},
     "output_type": "execute_result"
    }
   ],
   "source": [
    "# Viewing probability of survival or death, for each passenger in the training set:\n",
    "y_pred_proba = knn.predict_proba(X_train)\n",
    "y_pred_proba"
   ]
  },
  {
   "cell_type": "code",
   "execution_count": 45,
   "id": "42108852",
   "metadata": {},
   "outputs": [
    {
     "data": {
      "text/plain": [
       "0.8266666666666667"
      ]
     },
     "execution_count": 45,
     "metadata": {},
     "output_type": "execute_result"
    }
   ],
   "source": [
    "#83 percent accuracy for 5 nearest neighbors is actually pretty good:\n",
    "accuracy_score(y_train, y_pred)"
   ]
  },
  {
   "cell_type": "code",
   "execution_count": 46,
   "id": "1018fbc0",
   "metadata": {},
   "outputs": [
    {
     "name": "stdout",
     "output_type": "stream",
     "text": [
      "Accuracy of KNN classifier on training set: 0.83\n"
     ]
    }
   ],
   "source": [
    "# Model Score:\n",
    "\n",
    "print('Accuracy of KNN classifier on training set: {:.2f}'\n",
    "     .format(knn.score(X_train, y_train)))"
   ]
  },
  {
   "cell_type": "code",
   "execution_count": 47,
   "id": "9d65269c",
   "metadata": {},
   "outputs": [
    {
     "name": "stdout",
     "output_type": "stream",
     "text": [
      "Accuracy of KNN classifier on validate set: 0.78\n"
     ]
    }
   ],
   "source": [
    "print('Accuracy of KNN classifier on validate set: {:.2f}'\n",
    "     .format(knn.score(X_validate, y_validate)))"
   ]
  },
  {
   "cell_type": "code",
   "execution_count": 48,
   "id": "5bdb3181",
   "metadata": {},
   "outputs": [
    {
     "name": "stdout",
     "output_type": "stream",
     "text": [
      "[[3004  300]\n",
      " [ 480  716]]\n"
     ]
    }
   ],
   "source": [
    "print(confusion_matrix(y_train, y_pred))"
   ]
  },
  {
   "cell_type": "code",
   "execution_count": 49,
   "id": "3d6bc0b9",
   "metadata": {},
   "outputs": [
    {
     "data": {
      "text/plain": [
       "(3004, 300, 480, 716)"
      ]
     },
     "execution_count": 49,
     "metadata": {},
     "output_type": "execute_result"
    }
   ],
   "source": [
    "TN, FP, FN, TP = confusion_matrix(y_train,y_pred).ravel()\n",
    "ALL = TP + TN + FP + FN\n",
    "\n",
    "TN, FP, FN, TP "
   ]
  },
  {
   "cell_type": "code",
   "execution_count": 50,
   "id": "07e81842",
   "metadata": {},
   "outputs": [],
   "source": [
    "def show_scores(TN, FP, FN, TP):\n",
    "    \n",
    "    ALL = TP + TN + FP + FN\n",
    "    \n",
    "    accuracy = (TP + TN)/ALL # How often did the model get it right?\n",
    "    precision = TP/(TP+FP) # What is the quality of a positive prediction made by the model?\n",
    "    recall = TP/(TP+FN) # How many of the true positives were found?   \n",
    "    \n",
    "    true_positive_rate = TP/(TP+FN) # Same as recall, actually\n",
    "    true_negative_rate = TN/(TN+FP) # How many of the true negatives were found?\n",
    "    false_positive_rate = FP/(FP+TN) # How often did we miss the negative and accidentally call it positive?\n",
    "    false_negative_rate = FN/(FN+TP) # How often did we miss the positive and accidentally call it negative?\n",
    "    \n",
    "    f1_score = 2*(precision*recall)/(precision+recall) # Harmonic mean, good for imbalanced data sets\n",
    "    support_pos = TP + FN # Number of actual positives in the sample\n",
    "    support_neg = FP + TN # Number of actual negatives in the sample\n",
    "    \n",
    "    print(f\"Accuracy: {accuracy}\")\n",
    "    print(f\"Precision: {precision}\")\n",
    "    print(f\"Recall: {recall}\")\n",
    "    print(f\"True Positive Rate: {true_positive_rate}\")\n",
    "    print(f\"True Negative Rate: {true_negative_rate}\")\n",
    "    print(f\"False Positive Rate: {false_positive_rate}\")\n",
    "    print(f\"False Negative Rate: {false_negative_rate}\")\n",
    "    print(f\"F1 Score: {f1_score}\")\n",
    "    print(f\"Support (0): {support_pos}\")\n",
    "    print(f\"Support (1): {support_neg}\")"
   ]
  },
  {
   "cell_type": "code",
   "execution_count": 51,
   "id": "43e409a0",
   "metadata": {},
   "outputs": [
    {
     "name": "stdout",
     "output_type": "stream",
     "text": [
      "Accuracy: 0.8266666666666667\n",
      "Precision: 0.7047244094488189\n",
      "Recall: 0.5986622073578596\n",
      "True Positive Rate: 0.5986622073578596\n",
      "True Negative Rate: 0.9092009685230025\n",
      "False Positive Rate: 0.09079903147699758\n",
      "False Negative Rate: 0.4013377926421405\n",
      "F1 Score: 0.6473779385171791\n",
      "Support (0): 1196\n",
      "Support (1): 3304\n"
     ]
    }
   ],
   "source": [
    "show_scores(TN, FP, FN, TP)"
   ]
  },
  {
   "cell_type": "code",
   "execution_count": 52,
   "id": "de61b582",
   "metadata": {},
   "outputs": [
    {
     "data": {
      "text/html": [
       "<div>\n",
       "<style scoped>\n",
       "    .dataframe tbody tr th:only-of-type {\n",
       "        vertical-align: middle;\n",
       "    }\n",
       "\n",
       "    .dataframe tbody tr th {\n",
       "        vertical-align: top;\n",
       "    }\n",
       "\n",
       "    .dataframe thead th {\n",
       "        text-align: right;\n",
       "    }\n",
       "</style>\n",
       "<table border=\"1\" class=\"dataframe\">\n",
       "  <thead>\n",
       "    <tr style=\"text-align: right;\">\n",
       "      <th></th>\n",
       "      <th>k</th>\n",
       "      <th>train_accuracy</th>\n",
       "      <th>validate_accuracy</th>\n",
       "      <th>difference</th>\n",
       "    </tr>\n",
       "  </thead>\n",
       "  <tbody>\n",
       "    <tr>\n",
       "      <th>17</th>\n",
       "      <td>18</td>\n",
       "      <td>0.800889</td>\n",
       "      <td>0.803556</td>\n",
       "      <td>-0.002667</td>\n",
       "    </tr>\n",
       "    <tr>\n",
       "      <th>12</th>\n",
       "      <td>13</td>\n",
       "      <td>0.806000</td>\n",
       "      <td>0.802667</td>\n",
       "      <td>0.003333</td>\n",
       "    </tr>\n",
       "    <tr>\n",
       "      <th>14</th>\n",
       "      <td>15</td>\n",
       "      <td>0.806000</td>\n",
       "      <td>0.801778</td>\n",
       "      <td>0.004222</td>\n",
       "    </tr>\n",
       "    <tr>\n",
       "      <th>10</th>\n",
       "      <td>11</td>\n",
       "      <td>0.811333</td>\n",
       "      <td>0.800889</td>\n",
       "      <td>0.010444</td>\n",
       "    </tr>\n",
       "    <tr>\n",
       "      <th>18</th>\n",
       "      <td>19</td>\n",
       "      <td>0.799556</td>\n",
       "      <td>0.800000</td>\n",
       "      <td>-0.000444</td>\n",
       "    </tr>\n",
       "    <tr>\n",
       "      <th>13</th>\n",
       "      <td>14</td>\n",
       "      <td>0.804000</td>\n",
       "      <td>0.800000</td>\n",
       "      <td>0.004000</td>\n",
       "    </tr>\n",
       "    <tr>\n",
       "      <th>11</th>\n",
       "      <td>12</td>\n",
       "      <td>0.807111</td>\n",
       "      <td>0.800000</td>\n",
       "      <td>0.007111</td>\n",
       "    </tr>\n",
       "    <tr>\n",
       "      <th>15</th>\n",
       "      <td>16</td>\n",
       "      <td>0.802222</td>\n",
       "      <td>0.799111</td>\n",
       "      <td>0.003111</td>\n",
       "    </tr>\n",
       "    <tr>\n",
       "      <th>7</th>\n",
       "      <td>8</td>\n",
       "      <td>0.812444</td>\n",
       "      <td>0.799111</td>\n",
       "      <td>0.013333</td>\n",
       "    </tr>\n",
       "    <tr>\n",
       "      <th>19</th>\n",
       "      <td>20</td>\n",
       "      <td>0.799778</td>\n",
       "      <td>0.798222</td>\n",
       "      <td>0.001556</td>\n",
       "    </tr>\n",
       "    <tr>\n",
       "      <th>8</th>\n",
       "      <td>9</td>\n",
       "      <td>0.811333</td>\n",
       "      <td>0.797333</td>\n",
       "      <td>0.014000</td>\n",
       "    </tr>\n",
       "    <tr>\n",
       "      <th>16</th>\n",
       "      <td>17</td>\n",
       "      <td>0.799778</td>\n",
       "      <td>0.794667</td>\n",
       "      <td>0.005111</td>\n",
       "    </tr>\n",
       "    <tr>\n",
       "      <th>9</th>\n",
       "      <td>10</td>\n",
       "      <td>0.809778</td>\n",
       "      <td>0.794667</td>\n",
       "      <td>0.015111</td>\n",
       "    </tr>\n",
       "    <tr>\n",
       "      <th>6</th>\n",
       "      <td>7</td>\n",
       "      <td>0.814667</td>\n",
       "      <td>0.790222</td>\n",
       "      <td>0.024444</td>\n",
       "    </tr>\n",
       "    <tr>\n",
       "      <th>5</th>\n",
       "      <td>6</td>\n",
       "      <td>0.819556</td>\n",
       "      <td>0.789333</td>\n",
       "      <td>0.030222</td>\n",
       "    </tr>\n",
       "    <tr>\n",
       "      <th>4</th>\n",
       "      <td>5</td>\n",
       "      <td>0.826667</td>\n",
       "      <td>0.783111</td>\n",
       "      <td>0.043556</td>\n",
       "    </tr>\n",
       "    <tr>\n",
       "      <th>3</th>\n",
       "      <td>4</td>\n",
       "      <td>0.832444</td>\n",
       "      <td>0.783111</td>\n",
       "      <td>0.049333</td>\n",
       "    </tr>\n",
       "    <tr>\n",
       "      <th>2</th>\n",
       "      <td>3</td>\n",
       "      <td>0.851778</td>\n",
       "      <td>0.766222</td>\n",
       "      <td>0.085556</td>\n",
       "    </tr>\n",
       "    <tr>\n",
       "      <th>1</th>\n",
       "      <td>2</td>\n",
       "      <td>0.858889</td>\n",
       "      <td>0.763556</td>\n",
       "      <td>0.095333</td>\n",
       "    </tr>\n",
       "  </tbody>\n",
       "</table>\n",
       "</div>"
      ],
      "text/plain": [
       "     k  train_accuracy  validate_accuracy  difference\n",
       "17  18        0.800889           0.803556   -0.002667\n",
       "12  13        0.806000           0.802667    0.003333\n",
       "14  15        0.806000           0.801778    0.004222\n",
       "10  11        0.811333           0.800889    0.010444\n",
       "18  19        0.799556           0.800000   -0.000444\n",
       "13  14        0.804000           0.800000    0.004000\n",
       "11  12        0.807111           0.800000    0.007111\n",
       "15  16        0.802222           0.799111    0.003111\n",
       "7    8        0.812444           0.799111    0.013333\n",
       "19  20        0.799778           0.798222    0.001556\n",
       "8    9        0.811333           0.797333    0.014000\n",
       "16  17        0.799778           0.794667    0.005111\n",
       "9   10        0.809778           0.794667    0.015111\n",
       "6    7        0.814667           0.790222    0.024444\n",
       "5    6        0.819556           0.789333    0.030222\n",
       "4    5        0.826667           0.783111    0.043556\n",
       "3    4        0.832444           0.783111    0.049333\n",
       "2    3        0.851778           0.766222    0.085556\n",
       "1    2        0.858889           0.763556    0.095333"
      ]
     },
     "execution_count": 52,
     "metadata": {},
     "output_type": "execute_result"
    }
   ],
   "source": [
    "knn_metrics = []\n",
    "\n",
    "# loop through different values of k\n",
    "for k in range(1, 21):\n",
    "            \n",
    "    # define the thing\n",
    "    knn = KNeighborsClassifier(n_neighbors=k)\n",
    "    \n",
    "    # fit the thing (remmeber only fit on training data)\n",
    "    knn.fit(X_train, y_train)\n",
    "    \n",
    "    # use the thing (calculate accuracy)\n",
    "    train_accuracy = knn.score(X_train, y_train)\n",
    "    validate_accuracy = knn.score(X_validate, y_validate)\n",
    "    \n",
    "    output = {\n",
    "        \"k\": k,\n",
    "        \"train_accuracy\": train_accuracy,\n",
    "        \"validate_accuracy\": validate_accuracy\n",
    "    }\n",
    "    \n",
    "    knn_metrics.append(output)\n",
    "\n",
    "# make a dataframe\n",
    "knn_metrics = pd.DataFrame(knn_metrics)\n",
    "knn_metrics['difference'] = knn_metrics.train_accuracy - knn_metrics.validate_accuracy\n",
    "knn_metrics[knn_metrics.difference <= 0.10].sort_values(by=['validate_accuracy', 'difference'], ascending = [False,True])"
   ]
  },
  {
   "cell_type": "code",
   "execution_count": 53,
   "id": "c6f595ee",
   "metadata": {},
   "outputs": [
    {
     "ename": "NameError",
     "evalue": "name 'results' is not defined",
     "output_type": "error",
     "traceback": [
      "\u001b[0;31m---------------------------------------------------------------------------\u001b[0m",
      "\u001b[0;31mNameError\u001b[0m                                 Traceback (most recent call last)",
      "\u001b[0;32m/var/folders/dk/lzs3plw14ms00nxw2vwq68vc0000gn/T/ipykernel_58709/4214280915.py\u001b[0m in \u001b[0;36m<module>\u001b[0;34m\u001b[0m\n\u001b[1;32m      1\u001b[0m \u001b[0;31m# plot the data\u001b[0m\u001b[0;34m\u001b[0m\u001b[0;34m\u001b[0m\u001b[0m\n\u001b[0;32m----> 2\u001b[0;31m \u001b[0mresults\u001b[0m\u001b[0;34m.\u001b[0m\u001b[0mdrop\u001b[0m\u001b[0;34m(\u001b[0m\u001b[0mcolumns\u001b[0m \u001b[0;34m=\u001b[0m \u001b[0;34m'difference'\u001b[0m\u001b[0;34m)\u001b[0m\u001b[0;34m.\u001b[0m\u001b[0mset_index\u001b[0m\u001b[0;34m(\u001b[0m\u001b[0;34m'k'\u001b[0m\u001b[0;34m)\u001b[0m\u001b[0;34m.\u001b[0m\u001b[0mplot\u001b[0m\u001b[0;34m(\u001b[0m\u001b[0mfigsize\u001b[0m \u001b[0;34m=\u001b[0m \u001b[0;34m(\u001b[0m\u001b[0;36m16\u001b[0m\u001b[0;34m,\u001b[0m\u001b[0;36m9\u001b[0m\u001b[0;34m)\u001b[0m\u001b[0;34m)\u001b[0m\u001b[0;34m\u001b[0m\u001b[0;34m\u001b[0m\u001b[0m\n\u001b[0m\u001b[1;32m      3\u001b[0m \u001b[0mplt\u001b[0m\u001b[0;34m.\u001b[0m\u001b[0mylabel\u001b[0m\u001b[0;34m(\u001b[0m\u001b[0;34m'Accuracy'\u001b[0m\u001b[0;34m)\u001b[0m\u001b[0;34m\u001b[0m\u001b[0;34m\u001b[0m\u001b[0m\n\u001b[1;32m      4\u001b[0m \u001b[0mplt\u001b[0m\u001b[0;34m.\u001b[0m\u001b[0mxticks\u001b[0m\u001b[0;34m(\u001b[0m\u001b[0mnp\u001b[0m\u001b[0;34m.\u001b[0m\u001b[0marange\u001b[0m\u001b[0;34m(\u001b[0m\u001b[0;36m0\u001b[0m\u001b[0;34m,\u001b[0m\u001b[0;36m21\u001b[0m\u001b[0;34m,\u001b[0m\u001b[0;36m1\u001b[0m\u001b[0;34m)\u001b[0m\u001b[0;34m)\u001b[0m\u001b[0;34m\u001b[0m\u001b[0;34m\u001b[0m\u001b[0m\n\u001b[1;32m      5\u001b[0m \u001b[0mplt\u001b[0m\u001b[0;34m.\u001b[0m\u001b[0mgrid\u001b[0m\u001b[0;34m(\u001b[0m\u001b[0;34m)\u001b[0m\u001b[0;34m\u001b[0m\u001b[0;34m\u001b[0m\u001b[0m\n",
      "\u001b[0;31mNameError\u001b[0m: name 'results' is not defined"
     ]
    }
   ],
   "source": [
    "# plot the data\n",
    "results.drop(columns = 'difference').set_index('k').plot(figsize = (16,9))\n",
    "plt.ylabel('Accuracy')\n",
    "plt.xticks(np.arange(0,21,1))\n",
    "plt.grid()"
   ]
  },
  {
   "cell_type": "code",
   "execution_count": null,
   "id": "203daed7",
   "metadata": {},
   "outputs": [],
   "source": [
    "# Running the model with the ideal parameters:\n",
    "#Creating the (empty) model object:\n",
    "knn = KNeighborsClassifier(n_neighbors=18, weights='uniform')\n",
    "\n",
    "#Fitting the model to training data:\n",
    "knn.fit(X_train, y_train)"
   ]
  },
  {
   "cell_type": "code",
   "execution_count": null,
   "id": "f4cba060",
   "metadata": {},
   "outputs": [],
   "source": [
    "#Classifying each customer by whether they are expected to churn:\n",
    "y_pred = knn.predict(X_train)\n",
    "y_pred"
   ]
  },
  {
   "cell_type": "markdown",
   "id": "1c9f10c3",
   "metadata": {},
   "source": [
    "# Regression Model:"
   ]
  },
  {
   "cell_type": "code",
   "execution_count": null,
   "id": "e83e5d49",
   "metadata": {},
   "outputs": [],
   "source": [
    "logit = LogisticRegression(C=1, random_state=123, intercept_scaling=1, solver='lbfgs')"
   ]
  },
  {
   "cell_type": "code",
   "execution_count": null,
   "id": "31debafc",
   "metadata": {},
   "outputs": [],
   "source": [
    "logit.fit(X_train, y_train)\n",
    "LogisticRegression(C=1, random_state=123)"
   ]
  },
  {
   "cell_type": "code",
   "execution_count": null,
   "id": "097b0ba4",
   "metadata": {},
   "outputs": [],
   "source": [
    "y_pred = logit.predict(X_train[features])"
   ]
  },
  {
   "cell_type": "code",
   "execution_count": null,
   "id": "aa923c4c",
   "metadata": {},
   "outputs": [],
   "source": [
    "#Determine importance of each of the features:\n",
    "print('Coefficient: \\n', logit.coef_)\n",
    "print('Intercept: \\n', logit.intercept_)"
   ]
  },
  {
   "cell_type": "code",
   "execution_count": null,
   "id": "f296ae2e",
   "metadata": {},
   "outputs": [],
   "source": [
    "coefficients = []\n",
    "\n",
    "for i in logit.coef_[0]:\n",
    "    coefficients.append(i)\n",
    "\n",
    "coefficients"
   ]
  },
  {
   "cell_type": "code",
   "execution_count": null,
   "id": "16573c45",
   "metadata": {},
   "outputs": [],
   "source": [
    "#Creating a list of the most important features.\n",
    "regression_feature_importance = {}\n",
    "features = X_train.columns.tolist()\n",
    "feature_importance_values = coefficients\n",
    "\n",
    "regression_feature_importance = {}\n",
    "for feature in features:\n",
    "    for value in feature_importance_values:\n",
    "        regression_feature_importance[feature] = value\n",
    "        feature_importance_values.remove(value)\n",
    "        break  \n",
    "    \n",
    "regression_feature_importance"
   ]
  },
  {
   "cell_type": "code",
   "execution_count": null,
   "id": "3518b7fb",
   "metadata": {},
   "outputs": [],
   "source": [
    "logit.score(X_train[features], y_train)"
   ]
  },
  {
   "cell_type": "code",
   "execution_count": 55,
   "id": "738c34de",
   "metadata": {},
   "outputs": [
    {
     "data": {
      "text/html": [
       "<div>\n",
       "<style scoped>\n",
       "    .dataframe tbody tr th:only-of-type {\n",
       "        vertical-align: middle;\n",
       "    }\n",
       "\n",
       "    .dataframe tbody tr th {\n",
       "        vertical-align: top;\n",
       "    }\n",
       "\n",
       "    .dataframe thead th {\n",
       "        text-align: right;\n",
       "    }\n",
       "</style>\n",
       "<table border=\"1\" class=\"dataframe\">\n",
       "  <thead>\n",
       "    <tr style=\"text-align: right;\">\n",
       "      <th></th>\n",
       "      <th>solver</th>\n",
       "      <th>train_accuracy</th>\n",
       "      <th>validate_accuracy</th>\n",
       "      <th>difference</th>\n",
       "    </tr>\n",
       "  </thead>\n",
       "  <tbody>\n",
       "    <tr>\n",
       "      <th>3</th>\n",
       "      <td>sag</td>\n",
       "      <td>0.802000</td>\n",
       "      <td>0.804444</td>\n",
       "      <td>-0.002444</td>\n",
       "    </tr>\n",
       "    <tr>\n",
       "      <th>0</th>\n",
       "      <td>newton-cg</td>\n",
       "      <td>0.802222</td>\n",
       "      <td>0.804444</td>\n",
       "      <td>-0.002222</td>\n",
       "    </tr>\n",
       "    <tr>\n",
       "      <th>1</th>\n",
       "      <td>lbfgs</td>\n",
       "      <td>0.802222</td>\n",
       "      <td>0.804444</td>\n",
       "      <td>-0.002222</td>\n",
       "    </tr>\n",
       "    <tr>\n",
       "      <th>2</th>\n",
       "      <td>liblinear</td>\n",
       "      <td>0.802222</td>\n",
       "      <td>0.804444</td>\n",
       "      <td>-0.002222</td>\n",
       "    </tr>\n",
       "    <tr>\n",
       "      <th>4</th>\n",
       "      <td>saga</td>\n",
       "      <td>0.802000</td>\n",
       "      <td>0.803556</td>\n",
       "      <td>-0.001556</td>\n",
       "    </tr>\n",
       "  </tbody>\n",
       "</table>\n",
       "</div>"
      ],
      "text/plain": [
       "      solver  train_accuracy  validate_accuracy  difference\n",
       "3        sag        0.802000           0.804444   -0.002444\n",
       "0  newton-cg        0.802222           0.804444   -0.002222\n",
       "1      lbfgs        0.802222           0.804444   -0.002222\n",
       "2  liblinear        0.802222           0.804444   -0.002222\n",
       "4       saga        0.802000           0.803556   -0.001556"
      ]
     },
     "execution_count": 55,
     "metadata": {},
     "output_type": "execute_result"
    }
   ],
   "source": [
    "log_metrics = []\n",
    "solvers = ['newton-cg', 'lbfgs', 'liblinear', 'sag', 'saga']\n",
    "\n",
    "# loop through different solvers\n",
    "for s in solvers:\n",
    "            \n",
    "    # define the regression object\n",
    "    logit = LogisticRegression(C=1, random_state=123, intercept_scaling=1, solver= s)\n",
    "    \n",
    "    # fit the model to the training data:\n",
    "    logit.fit(X_train, y_train)\n",
    "    \n",
    "    # calculate the accuracy\n",
    "    train_accuracy = logit.score(X_train[features], y_train)\n",
    "    validate_accuracy = logit.score(X_validate[features], y_validate)\n",
    "    \n",
    "    output = {\n",
    "        \"solver\": s,\n",
    "        \"train_accuracy\": train_accuracy,\n",
    "        \"validate_accuracy\": validate_accuracy\n",
    "    }\n",
    "    \n",
    "    log_metrics.append(output)\n",
    "    \n",
    "log_metrics\n",
    "    \n",
    "log_metrics = pd.DataFrame(log_metrics)\n",
    "log_metrics['difference'] = log_metrics.train_accuracy - log_metrics.validate_accuracy\n",
    "log_metrics[log_metrics.difference <= 0.10].sort_values(by=['validate_accuracy', 'difference'], ascending = [False,True])"
   ]
  }
 ],
 "metadata": {
  "kernelspec": {
   "display_name": "Python 3 (ipykernel)",
   "language": "python",
   "name": "python3"
  },
  "language_info": {
   "codemirror_mode": {
    "name": "ipython",
    "version": 3
   },
   "file_extension": ".py",
   "mimetype": "text/x-python",
   "name": "python",
   "nbconvert_exporter": "python",
   "pygments_lexer": "ipython3",
   "version": "3.9.7"
  }
 },
 "nbformat": 4,
 "nbformat_minor": 5
}
