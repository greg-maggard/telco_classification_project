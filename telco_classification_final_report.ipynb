{
 "cells": [
  {
   "cell_type": "markdown",
   "id": "b90339e5",
   "metadata": {},
   "source": [
    "# Investigating and Modeling Telco Churn"
   ]
  },
  {
   "cell_type": "code",
   "execution_count": 1,
   "id": "e5947c4a",
   "metadata": {},
   "outputs": [],
   "source": [
    "#Importing Functions and Libraries\n",
    "\n",
    "import warnings\n",
    "warnings.filterwarnings(\"ignore\")\n",
    "\n",
    "import pandas as pd\n",
    "import numpy as np\n",
    "import matplotlib.pyplot as plt\n",
    "import seaborn as sns\n",
    "sns.set_palette('nipy_spectral')\n",
    "from scipy import stats\n",
    "from sklearn.model_selection import train_test_split\n",
    "from sklearn.tree import DecisionTreeClassifier, plot_tree\n",
    "from sklearn.metrics import classification_report\n",
    "from sklearn.metrics import confusion_matrix\n",
    "from sklearn.metrics import precision_recall_fscore_support\n",
    "from sklearn.ensemble import RandomForestClassifier\n",
    "from sklearn.neighbors import KNeighborsClassifier\n",
    "import pydataset as data\n",
    "\n",
    "#Importing pre-written scripts to streamline data acquisition and cleaning:\n",
    "from acquire import get_telco_data\n",
    "from prepare import clean_telco_data, prep_telco_data, telco_sample_splitter\n",
    "from env import get_db_url\n",
    "from stats_toolkit import significance_test"
   ]
  },
  {
   "cell_type": "markdown",
   "id": "d01636b6",
   "metadata": {},
   "source": [
    "# What's the Plan?"
   ]
  },
  {
   "cell_type": "markdown",
   "id": "47f81ca0",
   "metadata": {},
   "source": [
    "- ReadMe can be found [here](https://github.com/greg-maggard/telco_classification_project/blob/main/README.md), containing a data dictionary, project goals, and some initial hypotheses about drivers of customer churn. \n",
    "- Acquire data via pre-written scripts to pull from Codeup's database.\n",
    "- Prepare data via pre-written scripts for EDA and modeling.\n",
    "- Establish at least two hypotheses and their corresponding null hypotheses, run tests to determine whether we can reject those nulls. Document findings for reference.\n",
    "- Establish and document a baseline accuracy to which we can compare our eventual models.\n",
    "- Train classification models.\n",
    "- Evaluate models on train and test samples. \n",
    "- Evaluate best model on test sample.\n",
    "- Create CSV file containing customer ID, our model's prediction of whether they will churn, and the expected probability that will be the case. \n",
    "- Document conclusions, key insights, and recommendations."
   ]
  },
  {
   "cell_type": "markdown",
   "id": "a3ab0fd4",
   "metadata": {},
   "source": [
    "# The Gregxecutive Summary:"
   ]
  },
  {
   "cell_type": "markdown",
   "id": "86493f31",
   "metadata": {},
   "source": [
    "- Of the 4 types of models I ran (Decision Tree, Random Forest, K Nearest Neighbors, and Logistic Regression), the Random Forest performed best, with an ultimate test accuracy of ~ 82%.\n",
    "- This model outperforms the baseline prediction by ~ 9%.\n",
    "- Given more time in the future, I would like to run some multivariate analysis to control for certain features in order to determine which relationships are truly causal in nature. "
   ]
  },
  {
   "cell_type": "markdown",
   "id": "1274bf3b",
   "metadata": {},
   "source": [
    "# Acquiring and Preparing the Data:"
   ]
  },
  {
   "cell_type": "code",
   "execution_count": 2,
   "id": "c5233c4e",
   "metadata": {
    "scrolled": true
   },
   "outputs": [
    {
     "data": {
      "text/html": [
       "<div>\n",
       "<style scoped>\n",
       "    .dataframe tbody tr th:only-of-type {\n",
       "        vertical-align: middle;\n",
       "    }\n",
       "\n",
       "    .dataframe tbody tr th {\n",
       "        vertical-align: top;\n",
       "    }\n",
       "\n",
       "    .dataframe thead th {\n",
       "        text-align: right;\n",
       "    }\n",
       "</style>\n",
       "<table border=\"1\" class=\"dataframe\">\n",
       "  <thead>\n",
       "    <tr style=\"text-align: right;\">\n",
       "      <th></th>\n",
       "      <th>customer_id</th>\n",
       "      <th>gender</th>\n",
       "      <th>senior_citizen</th>\n",
       "      <th>partner</th>\n",
       "      <th>dependents</th>\n",
       "      <th>tenure</th>\n",
       "      <th>phone_service</th>\n",
       "      <th>multiple_lines</th>\n",
       "      <th>online_security</th>\n",
       "      <th>online_backup</th>\n",
       "      <th>...</th>\n",
       "      <th>streaming_movies_No internet service</th>\n",
       "      <th>streaming_movies_Yes</th>\n",
       "      <th>paperless_billing_Yes</th>\n",
       "      <th>contract_type_One year</th>\n",
       "      <th>contract_type_Two year</th>\n",
       "      <th>payment_type_Credit card (automatic)</th>\n",
       "      <th>payment_type_Electronic check</th>\n",
       "      <th>payment_type_Mailed check</th>\n",
       "      <th>internet_service_type_Fiber optic</th>\n",
       "      <th>internet_service_type_None</th>\n",
       "    </tr>\n",
       "  </thead>\n",
       "  <tbody>\n",
       "    <tr>\n",
       "      <th>3270</th>\n",
       "      <td>4673-KKSLS</td>\n",
       "      <td>Female</td>\n",
       "      <td>No</td>\n",
       "      <td>No</td>\n",
       "      <td>No</td>\n",
       "      <td>31</td>\n",
       "      <td>Yes</td>\n",
       "      <td>No</td>\n",
       "      <td>Yes</td>\n",
       "      <td>No</td>\n",
       "      <td>...</td>\n",
       "      <td>0</td>\n",
       "      <td>0</td>\n",
       "      <td>0</td>\n",
       "      <td>0</td>\n",
       "      <td>0</td>\n",
       "      <td>0</td>\n",
       "      <td>1</td>\n",
       "      <td>0</td>\n",
       "      <td>1</td>\n",
       "      <td>0</td>\n",
       "    </tr>\n",
       "    <tr>\n",
       "      <th>6084</th>\n",
       "      <td>8623-ULFNQ</td>\n",
       "      <td>Female</td>\n",
       "      <td>Yes</td>\n",
       "      <td>No</td>\n",
       "      <td>No</td>\n",
       "      <td>26</td>\n",
       "      <td>Yes</td>\n",
       "      <td>Yes</td>\n",
       "      <td>No</td>\n",
       "      <td>No</td>\n",
       "      <td>...</td>\n",
       "      <td>0</td>\n",
       "      <td>1</td>\n",
       "      <td>1</td>\n",
       "      <td>0</td>\n",
       "      <td>0</td>\n",
       "      <td>0</td>\n",
       "      <td>1</td>\n",
       "      <td>0</td>\n",
       "      <td>0</td>\n",
       "      <td>0</td>\n",
       "    </tr>\n",
       "    <tr>\n",
       "      <th>4470</th>\n",
       "      <td>6303-KFWSL</td>\n",
       "      <td>Female</td>\n",
       "      <td>No</td>\n",
       "      <td>No</td>\n",
       "      <td>No</td>\n",
       "      <td>29</td>\n",
       "      <td>Yes</td>\n",
       "      <td>Yes</td>\n",
       "      <td>No</td>\n",
       "      <td>Yes</td>\n",
       "      <td>...</td>\n",
       "      <td>0</td>\n",
       "      <td>0</td>\n",
       "      <td>1</td>\n",
       "      <td>1</td>\n",
       "      <td>0</td>\n",
       "      <td>0</td>\n",
       "      <td>1</td>\n",
       "      <td>0</td>\n",
       "      <td>0</td>\n",
       "      <td>0</td>\n",
       "    </tr>\n",
       "    <tr>\n",
       "      <th>428</th>\n",
       "      <td>0623-IIHUG</td>\n",
       "      <td>Female</td>\n",
       "      <td>Yes</td>\n",
       "      <td>No</td>\n",
       "      <td>No</td>\n",
       "      <td>21</td>\n",
       "      <td>No</td>\n",
       "      <td>No phone service</td>\n",
       "      <td>Yes</td>\n",
       "      <td>No</td>\n",
       "      <td>...</td>\n",
       "      <td>0</td>\n",
       "      <td>0</td>\n",
       "      <td>1</td>\n",
       "      <td>0</td>\n",
       "      <td>0</td>\n",
       "      <td>0</td>\n",
       "      <td>1</td>\n",
       "      <td>0</td>\n",
       "      <td>0</td>\n",
       "      <td>0</td>\n",
       "    </tr>\n",
       "    <tr>\n",
       "      <th>3329</th>\n",
       "      <td>4742-DRORA</td>\n",
       "      <td>Male</td>\n",
       "      <td>No</td>\n",
       "      <td>Yes</td>\n",
       "      <td>Yes</td>\n",
       "      <td>60</td>\n",
       "      <td>Yes</td>\n",
       "      <td>Yes</td>\n",
       "      <td>Yes</td>\n",
       "      <td>No</td>\n",
       "      <td>...</td>\n",
       "      <td>0</td>\n",
       "      <td>0</td>\n",
       "      <td>1</td>\n",
       "      <td>1</td>\n",
       "      <td>0</td>\n",
       "      <td>0</td>\n",
       "      <td>0</td>\n",
       "      <td>0</td>\n",
       "      <td>1</td>\n",
       "      <td>0</td>\n",
       "    </tr>\n",
       "  </tbody>\n",
       "</table>\n",
       "<p>5 rows × 51 columns</p>\n",
       "</div>"
      ],
      "text/plain": [
       "     customer_id  gender senior_citizen partner dependents  tenure  \\\n",
       "3270  4673-KKSLS  Female             No      No         No      31   \n",
       "6084  8623-ULFNQ  Female            Yes      No         No      26   \n",
       "4470  6303-KFWSL  Female             No      No         No      29   \n",
       "428   0623-IIHUG  Female            Yes      No         No      21   \n",
       "3329  4742-DRORA    Male             No     Yes        Yes      60   \n",
       "\n",
       "     phone_service    multiple_lines online_security online_backup  ...  \\\n",
       "3270           Yes                No             Yes            No  ...   \n",
       "6084           Yes               Yes              No            No  ...   \n",
       "4470           Yes               Yes              No           Yes  ...   \n",
       "428             No  No phone service             Yes            No  ...   \n",
       "3329           Yes               Yes             Yes            No  ...   \n",
       "\n",
       "     streaming_movies_No internet service streaming_movies_Yes  \\\n",
       "3270                                    0                    0   \n",
       "6084                                    0                    1   \n",
       "4470                                    0                    0   \n",
       "428                                     0                    0   \n",
       "3329                                    0                    0   \n",
       "\n",
       "     paperless_billing_Yes contract_type_One year contract_type_Two year  \\\n",
       "3270                     0                      0                      0   \n",
       "6084                     1                      0                      0   \n",
       "4470                     1                      1                      0   \n",
       "428                      1                      0                      0   \n",
       "3329                     1                      1                      0   \n",
       "\n",
       "      payment_type_Credit card (automatic)  payment_type_Electronic check  \\\n",
       "3270                                     0                              1   \n",
       "6084                                     0                              1   \n",
       "4470                                     0                              1   \n",
       "428                                      0                              1   \n",
       "3329                                     0                              0   \n",
       "\n",
       "     payment_type_Mailed check  internet_service_type_Fiber optic  \\\n",
       "3270                         0                                  1   \n",
       "6084                         0                                  0   \n",
       "4470                         0                                  0   \n",
       "428                          0                                  0   \n",
       "3329                         0                                  1   \n",
       "\n",
       "     internet_service_type_None  \n",
       "3270                          0  \n",
       "6084                          0  \n",
       "4470                          0  \n",
       "428                           0  \n",
       "3329                          0  \n",
       "\n",
       "[5 rows x 51 columns]"
      ]
     },
     "execution_count": 2,
     "metadata": {},
     "output_type": "execute_result"
    }
   ],
   "source": [
    "# Acquiring Data:\n",
    "telco_df = get_telco_data()\n",
    "\n",
    "#Splitting Data in to Train, Validate, and Test Sets:\n",
    "train, validate, test = prep_telco_data(telco_df)\n",
    "#Showing the first few rows to check that data saved properly:\n",
    "train.head()"
   ]
  },
  {
   "cell_type": "code",
   "execution_count": 3,
   "id": "b6fecf59",
   "metadata": {},
   "outputs": [],
   "source": [
    "X_train, y_train, X_validate, y_validate, X_test, y_test = telco_sample_splitter(train, validate, test)"
   ]
  },
  {
   "cell_type": "markdown",
   "id": "4015c214",
   "metadata": {},
   "source": [
    "## Acquire & Prepare Takeaways: "
   ]
  },
  {
   "cell_type": "markdown",
   "id": "663abd23",
   "metadata": {},
   "source": [
    "- Acquire script used to query Telco data from Codeup Database. (Code available to view [here](https://github.com/greg-maggard/telco_classification_project/blob/main/acquire.py))\n",
    "- Prepare script used to prepare Telco data for exploration and modeling. (Code available to view [here](https://github.com/greg-maggard/telco_classification_project/blob/main/prepare.py)) "
   ]
  },
  {
   "cell_type": "markdown",
   "id": "7881e460",
   "metadata": {},
   "source": [
    "# Exploration:"
   ]
  },
  {
   "cell_type": "markdown",
   "id": "cc7cd234",
   "metadata": {},
   "source": [
    "## 27% of Customers Churned Last Month"
   ]
  },
  {
   "cell_type": "code",
   "execution_count": 4,
   "id": "26434351",
   "metadata": {},
   "outputs": [
    {
     "data": {
      "image/png": "[encoded data removed]",
      "text/plain": [
       "<Figure size 432x288 with 1 Axes>"
      ]
     },
     "metadata": {
      "needs_background": "light"
     },
     "output_type": "display_data"
    }
   ],
   "source": [
    "plt.title(\"How Many Customers Churned?\")\n",
    "sns.histplot(train, x = 'churn', legend = True);"
   ]
  },
  {
   "cell_type": "code",
   "execution_count": 5,
   "id": "b5accfcc",
   "metadata": {},
   "outputs": [
    {
     "data": {
      "text/plain": [
       "27"
      ]
     },
     "execution_count": 5,
     "metadata": {},
     "output_type": "execute_result"
    }
   ],
   "source": [
    "round((train[train.churn == 'Yes'].count().churn / train.churn.shape[0]) * 100)"
   ]
  },
  {
   "cell_type": "markdown",
   "id": "a766706a",
   "metadata": {},
   "source": [
    "- Around 27% of customer churned this month."
   ]
  },
  {
   "cell_type": "markdown",
   "id": "1bd24c00",
   "metadata": {},
   "source": [
    "### Customers Paying With Electronic Checks Are More Likely to Churn"
   ]
  },
  {
   "cell_type": "code",
   "execution_count": 6,
   "id": "55040ea9",
   "metadata": {},
   "outputs": [
    {
     "data": {
      "image/png": "[encoded data removed]",
      "text/plain": [
       "<Figure size 864x576 with 1 Axes>"
      ]
     },
     "metadata": {
      "needs_background": "light"
     },
     "output_type": "display_data"
    }
   ],
   "source": [
    "f = plt.figure(figsize=(12,8))\n",
    "ax = f.add_subplot(1,1,1)\n",
    "\n",
    "sns.histplot(data= train, ax=ax, stat=\"count\", multiple=\"stack\",\n",
    "             x=\"payment_type\", kde=False, hue=\"churn\",\n",
    "             element=\"bars\", legend=True).set(Title = \"Proportion of Churned Customers by Payment Type\");"
   ]
  },
  {
   "cell_type": "markdown",
   "id": "6b894ede",
   "metadata": {},
   "source": [
    "#### Statistical Testing\n",
    "- $H_0$: Customers paying with e-check are equally or less likely to churn.\n",
    "- $H_a$: Customers paying with e-check are more likely to churn."
   ]
  },
  {
   "cell_type": "code",
   "execution_count": 7,
   "id": "217251ef",
   "metadata": {},
   "outputs": [
    {
     "name": "stdout",
     "output_type": "stream",
     "text": [
      "Sufficient evidence -> Reject the null hypothesis.\n"
     ]
    }
   ],
   "source": [
    "e_check_hypothesis = train[['payment_type', 'churn']]\n",
    "e_check_hypothesis['e_check_boolean'] = (train['payment_type'] == 'Electronic check')\n",
    "#e_check_hypothesis\n",
    "\n",
    "e_check_contingency_table = pd.crosstab(e_check_hypothesis.churn, e_check_hypothesis.e_check_boolean)\n",
    "\n",
    "chi2, p, degf, expected = stats.chi2_contingency(e_check_contingency_table)\n",
    "\n",
    "significance_test(p)"
   ]
  },
  {
   "cell_type": "markdown",
   "id": "d21bc0d5",
   "metadata": {},
   "source": [
    "##### Conclusion:\n",
    "- We can reject the null that customers paying with e-check are equally or less likely to churn. \n",
    "\n",
    "##### Takeaway:\n",
    "- Customers paying with e-check are more likely to churn."
   ]
  },
  {
   "cell_type": "markdown",
   "id": "4dc5f5f4",
   "metadata": {},
   "source": [
    "### Customers With Multiple Phone Lines Don't Appear More or Less Likely to Churn"
   ]
  },
  {
   "cell_type": "code",
   "execution_count": 8,
   "id": "25085a3b",
   "metadata": {},
   "outputs": [
    {
     "data": {
      "image/png": "[encoded data removed]",
      "text/plain": [
       "<Figure size 504x360 with 1 Axes>"
      ]
     },
     "metadata": {
      "needs_background": "light"
     },
     "output_type": "display_data"
    }
   ],
   "source": [
    "f = plt.figure(figsize=(7,5))\n",
    "ax = f.add_subplot(1,1,1)\n",
    "\n",
    "sns.histplot(data= train, ax=ax, stat=\"count\", multiple=\"stack\",\n",
    "             x=\"multiple_lines\", kde=False, hue=\"churn\",\n",
    "             element=\"bars\", legend=True).set(Title = \"Proportion of Customer Churn by Multiple Line Status\");"
   ]
  },
  {
   "cell_type": "markdown",
   "id": "0efd3c10",
   "metadata": {},
   "source": [
    "#### Statistical Testing\n",
    "- $H_0$: Customers with multiple lines are equally or less likely to churn.\n",
    "- $H_a$: Customers with multiple lines are more likely to churn."
   ]
  },
  {
   "cell_type": "code",
   "execution_count": 9,
   "id": "a9be3718",
   "metadata": {},
   "outputs": [
    {
     "name": "stdout",
     "output_type": "stream",
     "text": [
      "Insufficient evidence -> Fail to reject the null hypothesis.\n"
     ]
    }
   ],
   "source": [
    "multiple_line_hypothesis = train[['multiple_lines', 'churn']]\n",
    "multiple_line_hypothesis['multiple_lines_boolean'] = (train['multiple_lines'] == 'Yes')\n",
    "#multiple_line_hypothesis\n",
    "\n",
    "multi_line_contingency_table = pd.crosstab(multiple_line_hypothesis.churn, multiple_line_hypothesis.multiple_lines_boolean)\n",
    "\n",
    "chi2, p, degf, expected = stats.chi2_contingency(multi_line_contingency_table)\n",
    "\n",
    "significance_test(p)"
   ]
  },
  {
   "cell_type": "markdown",
   "id": "743a60f2",
   "metadata": {},
   "source": [
    "##### Conclusion:\n",
    "- We cannot reject the null that customers with multiple lines are equally or less likely to churn. \n",
    "\n",
    "##### Takeaway:\n",
    "- Current evidence does *not* indicate that customers with multiple lines are more likely to churn."
   ]
  },
  {
   "cell_type": "markdown",
   "id": "4d7e6f81",
   "metadata": {},
   "source": [
    "### Customers With Fiber Optic Internet Are More Likely to Churn"
   ]
  },
  {
   "cell_type": "code",
   "execution_count": 10,
   "id": "7dcbd5e2",
   "metadata": {},
   "outputs": [
    {
     "data": {
      "image/png": "[encoded data removed]",
      "text/plain": [
       "<Figure size 504x360 with 1 Axes>"
      ]
     },
     "metadata": {
      "needs_background": "light"
     },
     "output_type": "display_data"
    }
   ],
   "source": [
    "f = plt.figure(figsize=(7,5))\n",
    "ax = f.add_subplot(1,1,1)\n",
    "\n",
    "sns.histplot(data= train, ax=ax, stat=\"count\", multiple=\"stack\",\n",
    "             x=\"internet_service_type\", kde=False, hue=\"churn\",\n",
    "             element=\"bars\", legend=True).set(Title = \"Proportion of Churned Customers by Internet Service Type\");"
   ]
  },
  {
   "cell_type": "markdown",
   "id": "bced266d",
   "metadata": {},
   "source": [
    "#### Statistical Testing\n",
    "- $H_0$: Customers with fiber optic internet are equally or less likely to churn.\n",
    "- $H_a$: Customers with fiber optic internet are more likely to churn."
   ]
  },
  {
   "cell_type": "code",
   "execution_count": 29,
   "id": "f55d069e",
   "metadata": {},
   "outputs": [
    {
     "name": "stdout",
     "output_type": "stream",
     "text": [
      "Sufficient evidence -> Reject the null hypothesis.\n"
     ]
    }
   ],
   "source": [
    "fiber_optic_hypothesis = train[['internet_service_type', 'churn']]\n",
    "fiber_optic_hypothesis['fiber_optic'] = (train['internet_service_type'] == 'Fiber optic')\n",
    "#fiber_optic_hypothesis\n",
    "\n",
    "contingency_table = pd.crosstab(fiber_optic_hypothesis.churn, fiber_optic_hypothesis.fiber_optic)\n",
    "\n",
    "chi2, p, degf, expected = stats.chi2_contingency(contingency_table)\n",
    "\n",
    "significance_test(p)"
   ]
  },
  {
   "cell_type": "markdown",
   "id": "61ceea11",
   "metadata": {},
   "source": [
    "##### Conclusion:\n",
    "- We can reject the null that customers with fiber optic internet are equally or less likely to churn. \n",
    "\n",
    "##### Takeaway:\n",
    "- Customers with fiber optic internet are more likely to churn."
   ]
  },
  {
   "cell_type": "markdown",
   "id": "392cca40",
   "metadata": {},
   "source": [
    "### Exploration, Recapped:\n",
    "- 27% of customers churned in the last month\n",
    "- Customers with fiber optic internet or who pay with e-checks are more likely to churn. \n",
    "    - Future efforts to understand why fiber optic customer churn may prove worthwhile.\n",
    "    - Encouraging customers to switch from electronic checks to other payment methods may help reduce churn."
   ]
  },
  {
   "cell_type": "markdown",
   "id": "230b8c36",
   "metadata": {},
   "source": [
    "# Using the Best 3 Models:"
   ]
  },
  {
   "cell_type": "markdown",
   "id": "69f94174",
   "metadata": {},
   "source": [
    "## Baseline: "
   ]
  },
  {
   "cell_type": "markdown",
   "id": "b01c0039",
   "metadata": {},
   "source": [
    "### The Baseline Model Predicts Customers Will *Not* Churn and Its Accuracy is ~73%"
   ]
  },
  {
   "cell_type": "code",
   "execution_count": 12,
   "id": "34ddf74d",
   "metadata": {},
   "outputs": [
    {
     "data": {
      "text/plain": [
       "0.73"
      ]
     },
     "execution_count": 12,
     "metadata": {},
     "output_type": "execute_result"
    }
   ],
   "source": [
    "# Calculating Baseline Accuracy:\n",
    "baseline_accuracy = (train[train['churn'] == 'No'].shape[0] / train.shape[0])\n",
    "round(baseline_accuracy, 2)"
   ]
  },
  {
   "cell_type": "markdown",
   "id": "0e079e88",
   "metadata": {},
   "source": [
    "## Decision Tree:\n",
    "- max_depth = 4"
   ]
  },
  {
   "cell_type": "code",
   "execution_count": 13,
   "id": "b6f80e66",
   "metadata": {},
   "outputs": [],
   "source": [
    "#Creating the object and fitting the model:\n",
    "tree = DecisionTreeClassifier(max_depth=4, random_state=123)\n",
    "tree = tree.fit(X_train, y_train)"
   ]
  },
  {
   "cell_type": "markdown",
   "id": "c0adc32b",
   "metadata": {},
   "source": [
    "### In-Sample Accuracy is ~ 78.3%"
   ]
  },
  {
   "cell_type": "code",
   "execution_count": 14,
   "id": "08fc74d4",
   "metadata": {},
   "outputs": [
    {
     "data": {
      "text/plain": [
       "0.78"
      ]
     },
     "execution_count": 14,
     "metadata": {},
     "output_type": "execute_result"
    }
   ],
   "source": [
    "#Performance on In-Sample Data:\n",
    "dt_in_sample_accuracy = tree.score(X_train, y_train)\n",
    "round(dt_in_sample_accuracy, 2)"
   ]
  },
  {
   "cell_type": "markdown",
   "id": "5f231ff3",
   "metadata": {},
   "source": [
    "### Out-of-Sample Accuracy is ~ 80.5%"
   ]
  },
  {
   "cell_type": "code",
   "execution_count": 15,
   "id": "1cc41f3a",
   "metadata": {},
   "outputs": [
    {
     "data": {
      "text/plain": [
       "0.81"
      ]
     },
     "execution_count": 15,
     "metadata": {},
     "output_type": "execute_result"
    }
   ],
   "source": [
    "#Performance on Out-of-Sample Data:\n",
    "dt_out_of_sample_accuracy = tree.score(X_validate, y_validate)\n",
    "round(dt_out_of_sample_accuracy, 2)"
   ]
  },
  {
   "cell_type": "markdown",
   "id": "3c1a3371",
   "metadata": {},
   "source": [
    "## Random Forest:\n",
    "- min_samples_per_leaf = 10\n",
    "- max_depth = 10"
   ]
  },
  {
   "cell_type": "code",
   "execution_count": 16,
   "id": "606bb4c8",
   "metadata": {},
   "outputs": [
    {
     "data": {
      "text/plain": [
       "RandomForestClassifier(max_depth=10, min_samples_leaf=10, random_state=123)"
      ]
     },
     "execution_count": 16,
     "metadata": {},
     "output_type": "execute_result"
    }
   ],
   "source": [
    "#Creating the object and fitting the model:\n",
    "rf = RandomForestClassifier(max_depth = 10, min_samples_leaf = 10, random_state = 123)\n",
    "rf.fit(X_train, y_train)"
   ]
  },
  {
   "cell_type": "markdown",
   "id": "6bcec8ed",
   "metadata": {},
   "source": [
    "### In-Sample Accuracy is ~ 81.4%"
   ]
  },
  {
   "cell_type": "code",
   "execution_count": 17,
   "id": "7ed32b00",
   "metadata": {},
   "outputs": [
    {
     "data": {
      "text/plain": [
       "0.81"
      ]
     },
     "execution_count": 17,
     "metadata": {},
     "output_type": "execute_result"
    }
   ],
   "source": [
    "#Performance on In-Sample Data:\n",
    "rf_in_sample_accuracy = rf.score(X_train, y_train)\n",
    "round(rf_in_sample_accuracy, 2)"
   ]
  },
  {
   "cell_type": "markdown",
   "id": "aad8f348",
   "metadata": {},
   "source": [
    "### Out-of-Sample Accuracy is ~ 81.5%"
   ]
  },
  {
   "cell_type": "code",
   "execution_count": 18,
   "id": "ce5120c0",
   "metadata": {},
   "outputs": [
    {
     "data": {
      "text/plain": [
       "0.82"
      ]
     },
     "execution_count": 18,
     "metadata": {},
     "output_type": "execute_result"
    }
   ],
   "source": [
    "#Performance on Out-of-Sample Data:\n",
    "rf_out_of_sample_accuracy = rf.score(X_validate, y_validate)\n",
    "round(rf_out_of_sample_accuracy, 2)"
   ]
  },
  {
   "cell_type": "markdown",
   "id": "6dc7ad0f",
   "metadata": {},
   "source": [
    "## K-Nearest Neighbors (KNN):\n",
    "- k = 18"
   ]
  },
  {
   "cell_type": "code",
   "execution_count": 19,
   "id": "46034735",
   "metadata": {},
   "outputs": [
    {
     "data": {
      "text/plain": [
       "KNeighborsClassifier(n_neighbors=18)"
      ]
     },
     "execution_count": 19,
     "metadata": {},
     "output_type": "execute_result"
    }
   ],
   "source": [
    "#Creating the model object and fitting the data:\n",
    "knn = KNeighborsClassifier(n_neighbors=18, weights='uniform')\n",
    "knn.fit(X_train, y_train)"
   ]
  },
  {
   "cell_type": "markdown",
   "id": "68f15f90",
   "metadata": {},
   "source": [
    "### In-Sample Accuracy is ~ 80.1%"
   ]
  },
  {
   "cell_type": "code",
   "execution_count": 20,
   "id": "f60b6ff8",
   "metadata": {},
   "outputs": [
    {
     "data": {
      "text/plain": [
       "0.8"
      ]
     },
     "execution_count": 20,
     "metadata": {},
     "output_type": "execute_result"
    }
   ],
   "source": [
    "#Performance on In-Sample Data:\n",
    "knn_in_sample_accuracy = knn.score(X_train, y_train)\n",
    "round(knn_in_sample_accuracy, 2)"
   ]
  },
  {
   "cell_type": "markdown",
   "id": "671468d1",
   "metadata": {},
   "source": [
    "### Out-of-Sample Accuracy is ~ 80.4%"
   ]
  },
  {
   "cell_type": "code",
   "execution_count": 21,
   "id": "00eb6dea",
   "metadata": {},
   "outputs": [
    {
     "data": {
      "text/plain": [
       "0.8"
      ]
     },
     "execution_count": 21,
     "metadata": {},
     "output_type": "execute_result"
    }
   ],
   "source": [
    "#Performance on Out-of-Sample data:\n",
    "knn_out_of_sample_accuracy = knn.score(X_validate, y_validate)\n",
    "round(knn_out_of_sample_accuracy, 2)"
   ]
  },
  {
   "cell_type": "markdown",
   "id": "52561255",
   "metadata": {},
   "source": [
    "# Testing With the Best Model:\n",
    "- The accuracy of the model is determined by measuring model's performance on a dataset where the actual outcomes are known."
   ]
  },
  {
   "cell_type": "markdown",
   "id": "70be3783",
   "metadata": {},
   "source": [
    "## Test Accuracy is ~ 82.0%"
   ]
  },
  {
   "cell_type": "code",
   "execution_count": 22,
   "id": "58b04889",
   "metadata": {},
   "outputs": [
    {
     "data": {
      "text/plain": [
       "0.82"
      ]
     },
     "execution_count": 22,
     "metadata": {},
     "output_type": "execute_result"
    }
   ],
   "source": [
    "#Running the model on the 'test' set to see how we can expect it to perform on future data:\n",
    "rf_test_sample_accuracy = rf.score(X_test, y_test)\n",
    "round(rf_test_sample_accuracy, 2)"
   ]
  },
  {
   "cell_type": "markdown",
   "id": "cd932330",
   "metadata": {},
   "source": [
    "## Visualizing Model Performance Relative to Differing Hyperparameters:"
   ]
  },
  {
   "cell_type": "code",
   "execution_count": 23,
   "id": "8cfd4dd5",
   "metadata": {},
   "outputs": [],
   "source": [
    "# Writing a loop to visualize best model's performance in relation to different hyperparameters:\n",
    "metrics = []\n",
    "max_depth = 20\n",
    "\n",
    "for i in range(2, max_depth):\n",
    "    # Make the model (note that as n_samples goes up, max_depth will go down)\n",
    "    depth = max_depth - i\n",
    "    n_samples = i\n",
    "    forest = RandomForestClassifier(max_depth=depth, min_samples_leaf=n_samples, random_state=123)\n",
    "\n",
    "    # Fit the model on the training set to determine accuracy on known data\n",
    "    forest = forest.fit(X_train, y_train)\n",
    "\n",
    "    # Evaluate model's performance on training set:\n",
    "    in_sample_accuracy = forest.score(X_train, y_train)\n",
    "    \n",
    "    #Evaluate how the model performs on the validate set to compare with the training set (helps check for overfitting):\n",
    "    out_of_sample_accuracy = forest.score(X_validate, y_validate)\n",
    "\n",
    "    #creates an entry into a dictionary containing metrics for each hyperparameter combination:\n",
    "    output = {\n",
    "        \"min_samples_per_leaf\": n_samples,\n",
    "        \"max_depth\": depth,\n",
    "        \"train_accuracy\": in_sample_accuracy,\n",
    "        \"validate_accuracy\": out_of_sample_accuracy\n",
    "    }\n",
    "    \n",
    "    metrics.append(output)\n",
    "\n",
    "# converting output dictionary to dataframe:    \n",
    "df = pd.DataFrame(metrics)\n",
    "#Adding a 'difference' column that contains values for the difference between the model's accuracy on the train and validate sets:\n",
    "df[\"difference\"] = df.train_accuracy - df.validate_accuracy"
   ]
  },
  {
   "cell_type": "code",
   "execution_count": 24,
   "id": "c243af57",
   "metadata": {},
   "outputs": [
    {
     "data": {
      "image/png": "[encoded data removed]",
      "text/plain": [
       "<Figure size 1152x648 with 1 Axes>"
      ]
     },
     "metadata": {
      "needs_background": "light"
     },
     "output_type": "display_data"
    }
   ],
   "source": [
    "#Creating a graph to chart the metrics for each of the above hyperparameter combinations:\n",
    "df.set_index('max_depth')[['train_accuracy', 'validate_accuracy','difference']].plot(figsize = (16,9))\n",
    "plt.ylabel('Accuracy')\n",
    "plt.xticks(np.arange(0,21,1))\n",
    "plt.grid()\n",
    "plt.title('Model Performance as Related to Hyperparameter Selection')\n",
    "\n",
    "#Adding a red line to show the most optimal hyperparameter combination for this Random Forest Model:\n",
    "plt.vlines(x = 10, ymin = 0, ymax = 1, colors = 'r', linestyles = 'solid');"
   ]
  },
  {
   "cell_type": "markdown",
   "id": "5983045f",
   "metadata": {},
   "source": [
    "#### Takeaway:\n",
    "- This model is selected as the best, as I want to optimize for accuracy, while ensuring that the model generalizes to future, unknown datasets. "
   ]
  },
  {
   "cell_type": "markdown",
   "id": "054f8c7f",
   "metadata": {},
   "source": [
    "# In Summary:"
   ]
  },
  {
   "cell_type": "markdown",
   "id": "71df181c",
   "metadata": {},
   "source": [
    "\n",
    "## Takeaways\n",
    "- Payment type and fiber optic internet are good predictors of churn, while having multiple lines is not. \n",
    "- Using the random forest model, I was able to achieve an ~82% accuracy in predicting whether a customer would churn, which beats the baseline model by ~ 8.6%.\n",
    "- This model does well on unseen data (tested on two unseen datasets).\n",
    "- I would expect this model to reasonably perform with about 80% accuracy on future data."
   ]
  },
  {
   "cell_type": "markdown",
   "id": "71942a7e",
   "metadata": {},
   "source": [
    "## Recommendations:\n",
    "- Advocating for customers to sign up for a payment method other than electronic check.\n",
    "- Figure out what's happening with fiber optic internet.\n",
    "- I recommend that we deploy this model in the future to predict which customers are likely to churn."
   ]
  },
  {
   "cell_type": "markdown",
   "id": "b0164237",
   "metadata": {},
   "source": [
    "## Next Steps:\n",
    "- Run some more multivariate analysis to understand which features have legitimate causal relationships with churn. Understanding this better may help improve model's performance. \n",
    "- Gather data on customer satisfaction, particularly with services like fiber optic internet. This may help understand why having these services seem to indicate a customer will churn.\n",
    "- I would like to dive into investigating what the issue seems to be with fiber. "
   ]
  },
  {
   "cell_type": "markdown",
   "id": "a9c0663c",
   "metadata": {},
   "source": [
    "# Sending the predictions to a CSV:"
   ]
  },
  {
   "cell_type": "code",
   "execution_count": 25,
   "id": "5bd66c5c",
   "metadata": {},
   "outputs": [],
   "source": [
    "y_predictions = rf.predict(X_test)\n",
    "y_proba = rf.predict_proba(X_test)\n",
    "\n",
    "#Creating empty DataFrame:\n",
    "predictions = pd.DataFrame()\n",
    "#Creating customer_id column:\n",
    "predictions['customer_id'] = test.customer_id\n",
    "#Creating prediction column:\n",
    "predictions['prediction'] = y_predictions\n",
    "#Creating probability column:\n",
    "predictions['probability'] = y_proba[:,1]\n",
    "\n",
    "predictions.to_csv(\"predictions.csv\")"
   ]
  }
 ],
 "metadata": {
  "kernelspec": {
   "display_name": "Python 3 (ipykernel)",
   "language": "python",
   "name": "python3"
  },
  "language_info": {
   "codemirror_mode": {
    "name": "ipython",
    "version": 3
   },
   "file_extension": ".py",
   "mimetype": "text/x-python",
   "name": "python",
   "nbconvert_exporter": "python",
   "pygments_lexer": "ipython3",
   "version": "3.9.7"
  }
 },
 "nbformat": 4,
 "nbformat_minor": 5
}
